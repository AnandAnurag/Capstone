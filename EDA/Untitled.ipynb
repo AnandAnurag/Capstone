{
 "cells": [
  {
   "cell_type": "code",
   "execution_count": 31,
   "metadata": {},
   "outputs": [],
   "source": [
    "import os\n",
    "import json\n",
    "import progressbar\n",
    "import math\n",
    "import pandas as pd\n",
    "import numpy as np\n",
    "from pandas import json_normalize\n",
    "from functools import reduce"
   ]
  },
  {
   "cell_type": "code",
   "execution_count": 32,
   "metadata": {},
   "outputs": [],
   "source": [
    "CITIES_FILEPATH = '../Dataset/Location/cities.json'\n",
    "STATES_FILEPATH = '../Dataset/Location/states.json'\n",
    "COUNTRIES_FILEPATH = '../Dataset/Location/countries.json'\n",
    "LOCATION_FILEPATH = '../Dataset/Processed/Locations.csv'\n",
    "USERS_FILEPATH = '../Dataset/BX-CSV-Dump/BX-Users.csv'\n",
    "USERS_NORMALIZED_FILEPATH = '../Dataset/Processed/BX-Users.csv'\n",
    "LOC_FUZZY_MAP_FILEPATH = '../Dataset/Processed/mappings.json',\n",
    "BOOKS_FILEPATH = '../Dataset/BX-CSV-Dump/BX-Books.csv'\n",
    "BOOKS_PROCESSED_FILEPATH = '../Dataset/Processed/BX-Books.csv'"
   ]
  },
  {
   "cell_type": "code",
   "execution_count": 35,
   "metadata": {},
   "outputs": [],
   "source": [
    "def loadProcessedBooks():\n",
    "    if not os.path.exists(BOOKS_PROCESSED_FILEPATH):\n",
    "        raw_books = pd.read_csv(BOOKS_FILEPATH, sep=';', encoding='latin')\n",
    "        raw_books['g_year-of-publication'] = 0\n",
    "        raw_books['g_categories'] = 0\n",
    "        raw_books['g_processed'] = 0\n",
    "        raw_books.to_csv(BOOKS_PROCESSED_FILEPATH, index=False, index_label=False)\n",
    "    return pd.read_csv(BOOKS_PROCESSED_FILEPATH, dtype={'g_year-of-publication': 'str', 'g_categories': 'str', 'g_processed': 'int64'});"
   ]
  },
  {
   "cell_type": "code",
   "execution_count": 36,
   "metadata": {},
   "outputs": [],
   "source": [
    "progress = loadProcessedBooks()"
   ]
  },
  {
   "cell_type": "code",
   "execution_count": 39,
   "metadata": {},
   "outputs": [
    {
     "data": {
      "text/plain": [
       "3314"
      ]
     },
     "execution_count": 39,
     "metadata": {},
     "output_type": "execute_result"
    }
   ],
   "source": [
    "progress['g_categories'].unique()"
   ]
  }
 ],
 "metadata": {
  "kernelspec": {
   "display_name": "Python 3",
   "language": "python",
   "name": "python3"
  },
  "language_info": {
   "codemirror_mode": {
    "name": "ipython",
    "version": 3
   },
   "file_extension": ".py",
   "mimetype": "text/x-python",
   "name": "python",
   "nbconvert_exporter": "python",
   "pygments_lexer": "ipython3",
   "version": "3.7.6"
  }
 },
 "nbformat": 4,
 "nbformat_minor": 4
}
