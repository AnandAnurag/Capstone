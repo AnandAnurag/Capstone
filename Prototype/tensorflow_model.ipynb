{
 "cells": [
  {
   "cell_type": "code",
   "execution_count": 67,
   "metadata": {},
   "outputs": [],
   "source": [
    "import tensorflow as tf\n",
    "import pandas as pd\n",
    "import calendar\n",
    "import time\n",
    "import numpy as np"
   ]
  },
  {
   "cell_type": "code",
   "execution_count": 2,
   "metadata": {
    "collapsed": true
   },
   "outputs": [],
   "source": [
    "from sklearn.model_selection import train_test_split\n",
    "from sklearn.preprocessing import LabelEncoder, Imputer"
   ]
  },
  {
   "cell_type": "code",
   "execution_count": 7,
   "metadata": {},
   "outputs": [
    {
     "name": "stderr",
     "output_type": "stream",
     "text": [
      "/usr/local/anaconda/lib/python3.6/site-packages/IPython/core/interactiveshell.py:2698: DtypeWarning: Columns (8) have mixed types. Specify dtype option on import or set low_memory=False.\n",
      "  interactivity=interactivity, compiler=compiler, result=result)\n"
     ]
    }
   ],
   "source": [
    "books = pd.read_csv(r\"../Dataset/Final/BX-Books.csv\")\n",
    "ratings = pd.read_csv(r\"../Dataset/Final/BX-Book-Ratings.csv\")\n",
    "users = pd.read_csv(r\"../Dataset/Final/BX-Users.csv\")"
   ]
  },
  {
   "cell_type": "code",
   "execution_count": 8,
   "metadata": {},
   "outputs": [
    {
     "data": {
      "text/html": [
       "<div>\n",
       "<style>\n",
       "    .dataframe thead tr:only-child th {\n",
       "        text-align: right;\n",
       "    }\n",
       "\n",
       "    .dataframe thead th {\n",
       "        text-align: left;\n",
       "    }\n",
       "\n",
       "    .dataframe tbody tr th {\n",
       "        vertical-align: top;\n",
       "    }\n",
       "</style>\n",
       "<table border=\"1\" class=\"dataframe\">\n",
       "  <thead>\n",
       "    <tr style=\"text-align: right;\">\n",
       "      <th></th>\n",
       "      <th>User-ID</th>\n",
       "      <th>ISBN</th>\n",
       "      <th>Book-Rating</th>\n",
       "    </tr>\n",
       "  </thead>\n",
       "  <tbody>\n",
       "    <tr>\n",
       "      <th>0</th>\n",
       "      <td>276725</td>\n",
       "      <td>034545104X</td>\n",
       "      <td>0</td>\n",
       "    </tr>\n",
       "    <tr>\n",
       "      <th>1</th>\n",
       "      <td>276726</td>\n",
       "      <td>0155061224</td>\n",
       "      <td>5</td>\n",
       "    </tr>\n",
       "    <tr>\n",
       "      <th>2</th>\n",
       "      <td>276727</td>\n",
       "      <td>0446520802</td>\n",
       "      <td>0</td>\n",
       "    </tr>\n",
       "    <tr>\n",
       "      <th>3</th>\n",
       "      <td>276729</td>\n",
       "      <td>052165615X</td>\n",
       "      <td>3</td>\n",
       "    </tr>\n",
       "    <tr>\n",
       "      <th>4</th>\n",
       "      <td>276729</td>\n",
       "      <td>0521795028</td>\n",
       "      <td>6</td>\n",
       "    </tr>\n",
       "  </tbody>\n",
       "</table>\n",
       "</div>"
      ],
      "text/plain": [
       "   User-ID        ISBN  Book-Rating\n",
       "0   276725  034545104X            0\n",
       "1   276726  0155061224            5\n",
       "2   276727  0446520802            0\n",
       "3   276729  052165615X            3\n",
       "4   276729  0521795028            6"
      ]
     },
     "execution_count": 8,
     "metadata": {},
     "output_type": "execute_result"
    }
   ],
   "source": [
    "ratings.head()"
   ]
  },
  {
   "cell_type": "code",
   "execution_count": 9,
   "metadata": {},
   "outputs": [
    {
     "data": {
      "text/html": [
       "<div>\n",
       "<style>\n",
       "    .dataframe thead tr:only-child th {\n",
       "        text-align: right;\n",
       "    }\n",
       "\n",
       "    .dataframe thead th {\n",
       "        text-align: left;\n",
       "    }\n",
       "\n",
       "    .dataframe tbody tr th {\n",
       "        vertical-align: top;\n",
       "    }\n",
       "</style>\n",
       "<table border=\"1\" class=\"dataframe\">\n",
       "  <thead>\n",
       "    <tr style=\"text-align: right;\">\n",
       "      <th></th>\n",
       "      <th>User-ID</th>\n",
       "      <th>Age</th>\n",
       "      <th>City</th>\n",
       "      <th>State</th>\n",
       "      <th>Country</th>\n",
       "    </tr>\n",
       "  </thead>\n",
       "  <tbody>\n",
       "    <tr>\n",
       "      <th>0</th>\n",
       "      <td>1</td>\n",
       "      <td>20.0</td>\n",
       "      <td>Airmont</td>\n",
       "      <td>New York</td>\n",
       "      <td>United States</td>\n",
       "    </tr>\n",
       "    <tr>\n",
       "      <th>1</th>\n",
       "      <td>2</td>\n",
       "      <td>18.0</td>\n",
       "      <td>Stockton</td>\n",
       "      <td>California</td>\n",
       "      <td>United States</td>\n",
       "    </tr>\n",
       "    <tr>\n",
       "      <th>2</th>\n",
       "      <td>3</td>\n",
       "      <td>21.0</td>\n",
       "      <td>Moscow</td>\n",
       "      <td>Moscow</td>\n",
       "      <td>Russia</td>\n",
       "    </tr>\n",
       "    <tr>\n",
       "      <th>3</th>\n",
       "      <td>4</td>\n",
       "      <td>17.0</td>\n",
       "      <td>Porto</td>\n",
       "      <td>Norte</td>\n",
       "      <td>Portugal</td>\n",
       "    </tr>\n",
       "    <tr>\n",
       "      <th>4</th>\n",
       "      <td>5</td>\n",
       "      <td>23.0</td>\n",
       "      <td>Farnborough</td>\n",
       "      <td>England</td>\n",
       "      <td>United Kingdom</td>\n",
       "    </tr>\n",
       "  </tbody>\n",
       "</table>\n",
       "</div>"
      ],
      "text/plain": [
       "   User-ID   Age         City       State         Country\n",
       "0        1  20.0      Airmont    New York   United States\n",
       "1        2  18.0     Stockton  California   United States\n",
       "2        3  21.0       Moscow      Moscow          Russia\n",
       "3        4  17.0        Porto       Norte        Portugal\n",
       "4        5  23.0  Farnborough     England  United Kingdom"
      ]
     },
     "execution_count": 9,
     "metadata": {},
     "output_type": "execute_result"
    }
   ],
   "source": [
    "users.head()"
   ]
  },
  {
   "cell_type": "code",
   "execution_count": 10,
   "metadata": {},
   "outputs": [
    {
     "data": {
      "text/html": [
       "<div>\n",
       "<style>\n",
       "    .dataframe thead tr:only-child th {\n",
       "        text-align: right;\n",
       "    }\n",
       "\n",
       "    .dataframe thead th {\n",
       "        text-align: left;\n",
       "    }\n",
       "\n",
       "    .dataframe tbody tr th {\n",
       "        vertical-align: top;\n",
       "    }\n",
       "</style>\n",
       "<table border=\"1\" class=\"dataframe\">\n",
       "  <thead>\n",
       "    <tr style=\"text-align: right;\">\n",
       "      <th></th>\n",
       "      <th>ISBN</th>\n",
       "      <th>Book-Title</th>\n",
       "      <th>Book-Author</th>\n",
       "      <th>Year-Of-Publication</th>\n",
       "      <th>Publisher</th>\n",
       "      <th>Image-URL-S</th>\n",
       "      <th>Image-URL-M</th>\n",
       "      <th>Image-URL-L</th>\n",
       "      <th>g_year-of-publication</th>\n",
       "      <th>g_categories</th>\n",
       "      <th>g_processed</th>\n",
       "    </tr>\n",
       "  </thead>\n",
       "  <tbody>\n",
       "    <tr>\n",
       "      <th>0</th>\n",
       "      <td>0195153448</td>\n",
       "      <td>Classical Mythology</td>\n",
       "      <td>Mark P. O. Morford</td>\n",
       "      <td>2002</td>\n",
       "      <td>Oxford University Press</td>\n",
       "      <td>http://images.amazon.com/images/P/0195153448.0...</td>\n",
       "      <td>http://images.amazon.com/images/P/0195153448.0...</td>\n",
       "      <td>http://images.amazon.com/images/P/0195153448.0...</td>\n",
       "      <td>2003</td>\n",
       "      <td>Social Science</td>\n",
       "      <td>1</td>\n",
       "    </tr>\n",
       "    <tr>\n",
       "      <th>1</th>\n",
       "      <td>0002005018</td>\n",
       "      <td>Clara Callan</td>\n",
       "      <td>Richard Bruce Wright</td>\n",
       "      <td>2001</td>\n",
       "      <td>HarperFlamingo Canada</td>\n",
       "      <td>http://images.amazon.com/images/P/0002005018.0...</td>\n",
       "      <td>http://images.amazon.com/images/P/0002005018.0...</td>\n",
       "      <td>http://images.amazon.com/images/P/0002005018.0...</td>\n",
       "      <td>2001</td>\n",
       "      <td>Actresses</td>\n",
       "      <td>1</td>\n",
       "    </tr>\n",
       "    <tr>\n",
       "      <th>2</th>\n",
       "      <td>0060973129</td>\n",
       "      <td>Decision in Normandy</td>\n",
       "      <td>Carlo D'Este</td>\n",
       "      <td>1991</td>\n",
       "      <td>HarperPerennial</td>\n",
       "      <td>http://images.amazon.com/images/P/0060973129.0...</td>\n",
       "      <td>http://images.amazon.com/images/P/0060973129.0...</td>\n",
       "      <td>http://images.amazon.com/images/P/0060973129.0...</td>\n",
       "      <td>1983</td>\n",
       "      <td>1940-1949</td>\n",
       "      <td>1</td>\n",
       "    </tr>\n",
       "    <tr>\n",
       "      <th>3</th>\n",
       "      <td>0374157065</td>\n",
       "      <td>Flu: The Story of the Great Influenza Pandemic...</td>\n",
       "      <td>Gina Bari Kolata</td>\n",
       "      <td>1999</td>\n",
       "      <td>Farrar Straus Giroux</td>\n",
       "      <td>http://images.amazon.com/images/P/0374157065.0...</td>\n",
       "      <td>http://images.amazon.com/images/P/0374157065.0...</td>\n",
       "      <td>http://images.amazon.com/images/P/0374157065.0...</td>\n",
       "      <td>1999</td>\n",
       "      <td>Medical</td>\n",
       "      <td>1</td>\n",
       "    </tr>\n",
       "    <tr>\n",
       "      <th>4</th>\n",
       "      <td>0393045218</td>\n",
       "      <td>The Mummies of Urumchi</td>\n",
       "      <td>E. J. W. Barber</td>\n",
       "      <td>1999</td>\n",
       "      <td>W. W. Norton &amp;amp; Company</td>\n",
       "      <td>http://images.amazon.com/images/P/0393045218.0...</td>\n",
       "      <td>http://images.amazon.com/images/P/0393045218.0...</td>\n",
       "      <td>http://images.amazon.com/images/P/0393045218.0...</td>\n",
       "      <td>1999</td>\n",
       "      <td>Design</td>\n",
       "      <td>1</td>\n",
       "    </tr>\n",
       "  </tbody>\n",
       "</table>\n",
       "</div>"
      ],
      "text/plain": [
       "         ISBN                                         Book-Title  \\\n",
       "0  0195153448                                Classical Mythology   \n",
       "1  0002005018                                       Clara Callan   \n",
       "2  0060973129                               Decision in Normandy   \n",
       "3  0374157065  Flu: The Story of the Great Influenza Pandemic...   \n",
       "4  0393045218                             The Mummies of Urumchi   \n",
       "\n",
       "            Book-Author  Year-Of-Publication                   Publisher  \\\n",
       "0    Mark P. O. Morford                 2002     Oxford University Press   \n",
       "1  Richard Bruce Wright                 2001       HarperFlamingo Canada   \n",
       "2          Carlo D'Este                 1991             HarperPerennial   \n",
       "3      Gina Bari Kolata                 1999        Farrar Straus Giroux   \n",
       "4       E. J. W. Barber                 1999  W. W. Norton &amp; Company   \n",
       "\n",
       "                                         Image-URL-S  \\\n",
       "0  http://images.amazon.com/images/P/0195153448.0...   \n",
       "1  http://images.amazon.com/images/P/0002005018.0...   \n",
       "2  http://images.amazon.com/images/P/0060973129.0...   \n",
       "3  http://images.amazon.com/images/P/0374157065.0...   \n",
       "4  http://images.amazon.com/images/P/0393045218.0...   \n",
       "\n",
       "                                         Image-URL-M  \\\n",
       "0  http://images.amazon.com/images/P/0195153448.0...   \n",
       "1  http://images.amazon.com/images/P/0002005018.0...   \n",
       "2  http://images.amazon.com/images/P/0060973129.0...   \n",
       "3  http://images.amazon.com/images/P/0374157065.0...   \n",
       "4  http://images.amazon.com/images/P/0393045218.0...   \n",
       "\n",
       "                                         Image-URL-L g_year-of-publication  \\\n",
       "0  http://images.amazon.com/images/P/0195153448.0...                  2003   \n",
       "1  http://images.amazon.com/images/P/0002005018.0...                  2001   \n",
       "2  http://images.amazon.com/images/P/0060973129.0...                  1983   \n",
       "3  http://images.amazon.com/images/P/0374157065.0...                  1999   \n",
       "4  http://images.amazon.com/images/P/0393045218.0...                  1999   \n",
       "\n",
       "     g_categories  g_processed  \n",
       "0  Social Science            1  \n",
       "1       Actresses            1  \n",
       "2       1940-1949            1  \n",
       "3         Medical            1  \n",
       "4          Design            1  "
      ]
     },
     "execution_count": 10,
     "metadata": {},
     "output_type": "execute_result"
    }
   ],
   "source": [
    "books.head()"
   ]
  },
  {
   "cell_type": "code",
   "execution_count": 11,
   "metadata": {
    "collapsed": true
   },
   "outputs": [],
   "source": [
    "full_data_df = ratings.merge(books,on='ISBN').merge(users,on='User-ID')"
   ]
  },
  {
   "cell_type": "code",
   "execution_count": 12,
   "metadata": {},
   "outputs": [
    {
     "data": {
      "text/plain": [
       "User-ID                  1031173\n",
       "ISBN                     1031173\n",
       "Book-Rating              1031173\n",
       "Book-Title               1031173\n",
       "Book-Author              1031172\n",
       "Year-Of-Publication      1031173\n",
       "Publisher                1031171\n",
       "Image-URL-S              1031173\n",
       "Image-URL-M              1031173\n",
       "Image-URL-L              1031173\n",
       "g_year-of-publication    1031173\n",
       "g_categories             1031173\n",
       "g_processed              1031173\n",
       "Age                      1031173\n",
       "City                     1031173\n",
       "State                    1031173\n",
       "Country                  1031173\n",
       "dtype: int64"
      ]
     },
     "execution_count": 12,
     "metadata": {},
     "output_type": "execute_result"
    }
   ],
   "source": [
    "full_data_df.count()"
   ]
  },
  {
   "cell_type": "code",
   "execution_count": 18,
   "metadata": {},
   "outputs": [
    {
     "data": {
      "text/html": [
       "<div>\n",
       "<style>\n",
       "    .dataframe thead tr:only-child th {\n",
       "        text-align: right;\n",
       "    }\n",
       "\n",
       "    .dataframe thead th {\n",
       "        text-align: left;\n",
       "    }\n",
       "\n",
       "    .dataframe tbody tr th {\n",
       "        vertical-align: top;\n",
       "    }\n",
       "</style>\n",
       "<table border=\"1\" class=\"dataframe\">\n",
       "  <thead>\n",
       "    <tr style=\"text-align: right;\">\n",
       "      <th></th>\n",
       "      <th>City</th>\n",
       "      <th>State</th>\n",
       "      <th>Country</th>\n",
       "      <th>Age</th>\n",
       "      <th>Book-Author</th>\n",
       "      <th>Year-Of-Publication</th>\n",
       "      <th>Publisher</th>\n",
       "      <th>Book-Rating</th>\n",
       "    </tr>\n",
       "  </thead>\n",
       "  <tbody>\n",
       "    <tr>\n",
       "      <th>0</th>\n",
       "      <td>Tyler</td>\n",
       "      <td>Texas</td>\n",
       "      <td>United States</td>\n",
       "      <td>21.0</td>\n",
       "      <td>M. J. Rose</td>\n",
       "      <td>2002</td>\n",
       "      <td>Ballantine Books</td>\n",
       "      <td>0</td>\n",
       "    </tr>\n",
       "    <tr>\n",
       "      <th>1</th>\n",
       "      <td>Cincinnati</td>\n",
       "      <td>Ohio</td>\n",
       "      <td>United States</td>\n",
       "      <td>23.0</td>\n",
       "      <td>M. J. Rose</td>\n",
       "      <td>2002</td>\n",
       "      <td>Ballantine Books</td>\n",
       "      <td>5</td>\n",
       "    </tr>\n",
       "    <tr>\n",
       "      <th>2</th>\n",
       "      <td>Cincinnati</td>\n",
       "      <td>Ohio</td>\n",
       "      <td>United States</td>\n",
       "      <td>23.0</td>\n",
       "      <td>Orson Scott Card</td>\n",
       "      <td>1986</td>\n",
       "      <td>Tor Books</td>\n",
       "      <td>9</td>\n",
       "    </tr>\n",
       "    <tr>\n",
       "      <th>3</th>\n",
       "      <td>Cincinnati</td>\n",
       "      <td>Ohio</td>\n",
       "      <td>United States</td>\n",
       "      <td>23.0</td>\n",
       "      <td>TRUMAN CAPOTE</td>\n",
       "      <td>1994</td>\n",
       "      <td>Vintage</td>\n",
       "      <td>8</td>\n",
       "    </tr>\n",
       "    <tr>\n",
       "      <th>4</th>\n",
       "      <td>Cincinnati</td>\n",
       "      <td>Ohio</td>\n",
       "      <td>United States</td>\n",
       "      <td>23.0</td>\n",
       "      <td>Rebecca Wells</td>\n",
       "      <td>1996</td>\n",
       "      <td>HarperCollins</td>\n",
       "      <td>9</td>\n",
       "    </tr>\n",
       "  </tbody>\n",
       "</table>\n",
       "</div>"
      ],
      "text/plain": [
       "         City  State        Country   Age       Book-Author  \\\n",
       "0       Tyler  Texas  United States  21.0        M. J. Rose   \n",
       "1  Cincinnati   Ohio  United States  23.0        M. J. Rose   \n",
       "2  Cincinnati   Ohio  United States  23.0  Orson Scott Card   \n",
       "3  Cincinnati   Ohio  United States  23.0     TRUMAN CAPOTE   \n",
       "4  Cincinnati   Ohio  United States  23.0     Rebecca Wells   \n",
       "\n",
       "   Year-Of-Publication         Publisher  Book-Rating  \n",
       "0                 2002  Ballantine Books            0  \n",
       "1                 2002  Ballantine Books            5  \n",
       "2                 1986         Tor Books            9  \n",
       "3                 1994           Vintage            8  \n",
       "4                 1996     HarperCollins            9  "
      ]
     },
     "execution_count": 18,
     "metadata": {},
     "output_type": "execute_result"
    }
   ],
   "source": [
    "useful_data_df = full_data_df[['City', 'State', 'Country', 'Age', 'Book-Author', 'Year-Of-Publication', 'Publisher', 'Book-Rating']]\n",
    "useful_data_df.head()"
   ]
  },
  {
   "cell_type": "code",
   "execution_count": 14,
   "metadata": {},
   "outputs": [],
   "source": [
    "def getLabelEncodedColumn(col, df):\n",
    "    le = LabelEncoder()\n",
    "    return le.fit_transform(df[col].values).reshape(-1,1)"
   ]
  },
  {
   "cell_type": "code",
   "execution_count": 19,
   "metadata": {
    "collapsed": true
   },
   "outputs": [],
   "source": [
    "useful_data_df = useful_data_df.dropna()"
   ]
  },
  {
   "cell_type": "code",
   "execution_count": 20,
   "metadata": {},
   "outputs": [
    {
     "data": {
      "text/plain": [
       "City                   1031170\n",
       "State                  1031170\n",
       "Country                1031170\n",
       "Age                    1031170\n",
       "Book-Author            1031170\n",
       "Year-Of-Publication    1031170\n",
       "Publisher              1031170\n",
       "Book-Rating            1031170\n",
       "dtype: int64"
      ]
     },
     "execution_count": 20,
     "metadata": {},
     "output_type": "execute_result"
    }
   ],
   "source": [
    "useful_data_df.count()"
   ]
  },
  {
   "cell_type": "code",
   "execution_count": 21,
   "metadata": {},
   "outputs": [],
   "source": [
    "useful_data_df['Book-Author-Enc'] = getLabelEncodedColumn('Book-Author', useful_data_df)\n",
    "useful_data_df['City-Enc'] = getLabelEncodedColumn('City', useful_data_df)\n",
    "useful_data_df['State-Enc'] = getLabelEncodedColumn('State', useful_data_df)\n",
    "useful_data_df['Country-Enc'] = getLabelEncodedColumn('Country', useful_data_df)\n",
    "useful_data_df['Publisher-Enc'] = getLabelEncodedColumn('Publisher', useful_data_df)"
   ]
  },
  {
   "cell_type": "code",
   "execution_count": 22,
   "metadata": {},
   "outputs": [
    {
     "data": {
      "text/html": [
       "<div>\n",
       "<style>\n",
       "    .dataframe thead tr:only-child th {\n",
       "        text-align: right;\n",
       "    }\n",
       "\n",
       "    .dataframe thead th {\n",
       "        text-align: left;\n",
       "    }\n",
       "\n",
       "    .dataframe tbody tr th {\n",
       "        vertical-align: top;\n",
       "    }\n",
       "</style>\n",
       "<table border=\"1\" class=\"dataframe\">\n",
       "  <thead>\n",
       "    <tr style=\"text-align: right;\">\n",
       "      <th></th>\n",
       "      <th>City</th>\n",
       "      <th>State</th>\n",
       "      <th>Country</th>\n",
       "      <th>Age</th>\n",
       "      <th>Book-Author</th>\n",
       "      <th>Year-Of-Publication</th>\n",
       "      <th>Publisher</th>\n",
       "      <th>Book-Rating</th>\n",
       "      <th>Book-Author-Enc</th>\n",
       "      <th>City-Enc</th>\n",
       "      <th>State-Enc</th>\n",
       "      <th>Country-Enc</th>\n",
       "      <th>Publisher-Enc</th>\n",
       "    </tr>\n",
       "  </thead>\n",
       "  <tbody>\n",
       "    <tr>\n",
       "      <th>0</th>\n",
       "      <td>Tyler</td>\n",
       "      <td>Texas</td>\n",
       "      <td>United States</td>\n",
       "      <td>21.0</td>\n",
       "      <td>M. J. Rose</td>\n",
       "      <td>2002</td>\n",
       "      <td>Ballantine Books</td>\n",
       "      <td>0</td>\n",
       "      <td>61693</td>\n",
       "      <td>6860</td>\n",
       "      <td>927</td>\n",
       "      <td>157</td>\n",
       "      <td>1391</td>\n",
       "    </tr>\n",
       "    <tr>\n",
       "      <th>1</th>\n",
       "      <td>Cincinnati</td>\n",
       "      <td>Ohio</td>\n",
       "      <td>United States</td>\n",
       "      <td>23.0</td>\n",
       "      <td>M. J. Rose</td>\n",
       "      <td>2002</td>\n",
       "      <td>Ballantine Books</td>\n",
       "      <td>5</td>\n",
       "      <td>61693</td>\n",
       "      <td>1526</td>\n",
       "      <td>686</td>\n",
       "      <td>157</td>\n",
       "      <td>1391</td>\n",
       "    </tr>\n",
       "    <tr>\n",
       "      <th>2</th>\n",
       "      <td>Cincinnati</td>\n",
       "      <td>Ohio</td>\n",
       "      <td>United States</td>\n",
       "      <td>23.0</td>\n",
       "      <td>Orson Scott Card</td>\n",
       "      <td>1986</td>\n",
       "      <td>Tor Books</td>\n",
       "      <td>9</td>\n",
       "      <td>73674</td>\n",
       "      <td>1526</td>\n",
       "      <td>686</td>\n",
       "      <td>157</td>\n",
       "      <td>14901</td>\n",
       "    </tr>\n",
       "    <tr>\n",
       "      <th>3</th>\n",
       "      <td>Cincinnati</td>\n",
       "      <td>Ohio</td>\n",
       "      <td>United States</td>\n",
       "      <td>23.0</td>\n",
       "      <td>TRUMAN CAPOTE</td>\n",
       "      <td>1994</td>\n",
       "      <td>Vintage</td>\n",
       "      <td>8</td>\n",
       "      <td>93471</td>\n",
       "      <td>1526</td>\n",
       "      <td>686</td>\n",
       "      <td>157</td>\n",
       "      <td>15650</td>\n",
       "    </tr>\n",
       "    <tr>\n",
       "      <th>4</th>\n",
       "      <td>Cincinnati</td>\n",
       "      <td>Ohio</td>\n",
       "      <td>United States</td>\n",
       "      <td>23.0</td>\n",
       "      <td>Rebecca Wells</td>\n",
       "      <td>1996</td>\n",
       "      <td>HarperCollins</td>\n",
       "      <td>9</td>\n",
       "      <td>80510</td>\n",
       "      <td>1526</td>\n",
       "      <td>686</td>\n",
       "      <td>157</td>\n",
       "      <td>6614</td>\n",
       "    </tr>\n",
       "  </tbody>\n",
       "</table>\n",
       "</div>"
      ],
      "text/plain": [
       "         City  State        Country   Age       Book-Author  \\\n",
       "0       Tyler  Texas  United States  21.0        M. J. Rose   \n",
       "1  Cincinnati   Ohio  United States  23.0        M. J. Rose   \n",
       "2  Cincinnati   Ohio  United States  23.0  Orson Scott Card   \n",
       "3  Cincinnati   Ohio  United States  23.0     TRUMAN CAPOTE   \n",
       "4  Cincinnati   Ohio  United States  23.0     Rebecca Wells   \n",
       "\n",
       "   Year-Of-Publication         Publisher  Book-Rating  Book-Author-Enc  \\\n",
       "0                 2002  Ballantine Books            0            61693   \n",
       "1                 2002  Ballantine Books            5            61693   \n",
       "2                 1986         Tor Books            9            73674   \n",
       "3                 1994           Vintage            8            93471   \n",
       "4                 1996     HarperCollins            9            80510   \n",
       "\n",
       "   City-Enc  State-Enc  Country-Enc  Publisher-Enc  \n",
       "0      6860        927          157           1391  \n",
       "1      1526        686          157           1391  \n",
       "2      1526        686          157          14901  \n",
       "3      1526        686          157          15650  \n",
       "4      1526        686          157           6614  "
      ]
     },
     "execution_count": 22,
     "metadata": {},
     "output_type": "execute_result"
    }
   ],
   "source": [
    "useful_data_df.head()"
   ]
  },
  {
   "cell_type": "code",
   "execution_count": 29,
   "metadata": {
    "collapsed": true
   },
   "outputs": [],
   "source": [
    "useful_df = useful_data_df.filter(['Age', 'Year-Of-Publication','Publisher-Enc',\n",
    "                                   'Book-Author-Enc', 'City-Enc','State-Enc', 'Book-Rating'])"
   ]
  },
  {
   "cell_type": "code",
   "execution_count": 30,
   "metadata": {},
   "outputs": [
    {
     "name": "stdout",
     "output_type": "stream",
     "text": [
      "<class 'pandas.core.frame.DataFrame'>\n",
      "Int64Index: 1031170 entries, 0 to 1031172\n",
      "Data columns (total 7 columns):\n",
      "Age                    1031170 non-null float64\n",
      "Year-Of-Publication    1031170 non-null float64\n",
      "Publisher-Enc          1031170 non-null float64\n",
      "Book-Author-Enc        1031170 non-null float64\n",
      "City-Enc               1031170 non-null float64\n",
      "State-Enc              1031170 non-null float64\n",
      "Book-Rating            1031170 non-null float64\n",
      "dtypes: float64(7)\n",
      "memory usage: 62.9 MB\n"
     ]
    }
   ],
   "source": [
    "useful_df.info()"
   ]
  },
  {
   "cell_type": "code",
   "execution_count": 31,
   "metadata": {
    "collapsed": true
   },
   "outputs": [],
   "source": [
    "X, y = useful_df.drop('Book-Rating', axis=1), useful_data_df[['Book-Rating']]"
   ]
  },
  {
   "cell_type": "code",
   "execution_count": 32,
   "metadata": {},
   "outputs": [
    {
     "data": {
      "text/html": [
       "<div>\n",
       "<style>\n",
       "    .dataframe thead tr:only-child th {\n",
       "        text-align: right;\n",
       "    }\n",
       "\n",
       "    .dataframe thead th {\n",
       "        text-align: left;\n",
       "    }\n",
       "\n",
       "    .dataframe tbody tr th {\n",
       "        vertical-align: top;\n",
       "    }\n",
       "</style>\n",
       "<table border=\"1\" class=\"dataframe\">\n",
       "  <thead>\n",
       "    <tr style=\"text-align: right;\">\n",
       "      <th></th>\n",
       "      <th>Age</th>\n",
       "      <th>Year-Of-Publication</th>\n",
       "      <th>Publisher-Enc</th>\n",
       "      <th>Book-Author-Enc</th>\n",
       "      <th>City-Enc</th>\n",
       "      <th>State-Enc</th>\n",
       "    </tr>\n",
       "  </thead>\n",
       "  <tbody>\n",
       "    <tr>\n",
       "      <th>0</th>\n",
       "      <td>21.0</td>\n",
       "      <td>2002.0</td>\n",
       "      <td>1391.0</td>\n",
       "      <td>61693.0</td>\n",
       "      <td>6860.0</td>\n",
       "      <td>927.0</td>\n",
       "    </tr>\n",
       "    <tr>\n",
       "      <th>1</th>\n",
       "      <td>23.0</td>\n",
       "      <td>2002.0</td>\n",
       "      <td>1391.0</td>\n",
       "      <td>61693.0</td>\n",
       "      <td>1526.0</td>\n",
       "      <td>686.0</td>\n",
       "    </tr>\n",
       "    <tr>\n",
       "      <th>2</th>\n",
       "      <td>23.0</td>\n",
       "      <td>1986.0</td>\n",
       "      <td>14901.0</td>\n",
       "      <td>73674.0</td>\n",
       "      <td>1526.0</td>\n",
       "      <td>686.0</td>\n",
       "    </tr>\n",
       "    <tr>\n",
       "      <th>3</th>\n",
       "      <td>23.0</td>\n",
       "      <td>1994.0</td>\n",
       "      <td>15650.0</td>\n",
       "      <td>93471.0</td>\n",
       "      <td>1526.0</td>\n",
       "      <td>686.0</td>\n",
       "    </tr>\n",
       "    <tr>\n",
       "      <th>4</th>\n",
       "      <td>23.0</td>\n",
       "      <td>1996.0</td>\n",
       "      <td>6614.0</td>\n",
       "      <td>80510.0</td>\n",
       "      <td>1526.0</td>\n",
       "      <td>686.0</td>\n",
       "    </tr>\n",
       "  </tbody>\n",
       "</table>\n",
       "</div>"
      ],
      "text/plain": [
       "    Age  Year-Of-Publication  Publisher-Enc  Book-Author-Enc  City-Enc  \\\n",
       "0  21.0               2002.0         1391.0          61693.0    6860.0   \n",
       "1  23.0               2002.0         1391.0          61693.0    1526.0   \n",
       "2  23.0               1986.0        14901.0          73674.0    1526.0   \n",
       "3  23.0               1994.0        15650.0          93471.0    1526.0   \n",
       "4  23.0               1996.0         6614.0          80510.0    1526.0   \n",
       "\n",
       "   State-Enc  \n",
       "0      927.0  \n",
       "1      686.0  \n",
       "2      686.0  \n",
       "3      686.0  \n",
       "4      686.0  "
      ]
     },
     "execution_count": 32,
     "metadata": {},
     "output_type": "execute_result"
    }
   ],
   "source": [
    "X.head()"
   ]
  },
  {
   "cell_type": "code",
   "execution_count": 33,
   "metadata": {},
   "outputs": [
    {
     "data": {
      "text/html": [
       "<div>\n",
       "<style>\n",
       "    .dataframe thead tr:only-child th {\n",
       "        text-align: right;\n",
       "    }\n",
       "\n",
       "    .dataframe thead th {\n",
       "        text-align: left;\n",
       "    }\n",
       "\n",
       "    .dataframe tbody tr th {\n",
       "        vertical-align: top;\n",
       "    }\n",
       "</style>\n",
       "<table border=\"1\" class=\"dataframe\">\n",
       "  <thead>\n",
       "    <tr style=\"text-align: right;\">\n",
       "      <th></th>\n",
       "      <th>Book-Rating</th>\n",
       "    </tr>\n",
       "  </thead>\n",
       "  <tbody>\n",
       "    <tr>\n",
       "      <th>0</th>\n",
       "      <td>0.0</td>\n",
       "    </tr>\n",
       "    <tr>\n",
       "      <th>1</th>\n",
       "      <td>5.0</td>\n",
       "    </tr>\n",
       "    <tr>\n",
       "      <th>2</th>\n",
       "      <td>9.0</td>\n",
       "    </tr>\n",
       "    <tr>\n",
       "      <th>3</th>\n",
       "      <td>8.0</td>\n",
       "    </tr>\n",
       "    <tr>\n",
       "      <th>4</th>\n",
       "      <td>9.0</td>\n",
       "    </tr>\n",
       "  </tbody>\n",
       "</table>\n",
       "</div>"
      ],
      "text/plain": [
       "   Book-Rating\n",
       "0          0.0\n",
       "1          5.0\n",
       "2          9.0\n",
       "3          8.0\n",
       "4          9.0"
      ]
     },
     "execution_count": 33,
     "metadata": {},
     "output_type": "execute_result"
    }
   ],
   "source": [
    "y.head()"
   ]
  },
  {
   "cell_type": "code",
   "execution_count": 34,
   "metadata": {
    "collapsed": true
   },
   "outputs": [],
   "source": [
    "X_train, X_test, y_train, y_test = train_test_split(X, y, test_size=0.33, random_state=42)"
   ]
  },
  {
   "cell_type": "code",
   "execution_count": 220,
   "metadata": {
    "collapsed": true
   },
   "outputs": [],
   "source": [
    "RUN_NAME = calendar.timegm(time.gmtime())\n",
    "\n",
    "learning_rate = 0.001\n",
    "training_epochs = 30\n",
    "\n",
    "number_of_inputs = 5\n",
    "number_of_outputs = 1\n",
    "\n",
    "layer_1_nodes = 5\n",
    "layer_2_nodes = 25\n",
    "layer_3_nodes = 12"
   ]
  },
  {
   "cell_type": "code",
   "execution_count": 36,
   "metadata": {
    "collapsed": true
   },
   "outputs": [],
   "source": [
    "from sklearn.preprocessing import OneHotEncoder\n",
    "def getOneHotEncoding(column):\n",
    "    enc = OneHotEncoder(handle_unknown='ignore')\n",
    "    enc.fit_transform(useful_data_df[column].values.reshape(-1,  1))\n",
    "    return enc"
   ]
  },
  {
   "cell_type": "code",
   "execution_count": 37,
   "metadata": {
    "collapsed": true
   },
   "outputs": [],
   "source": [
    "def oneHotCodedSparseMatrix():\n",
    "    return {\n",
    "        'author': getOneHotEncoding('Book-Author-Enc'),\n",
    "        'city': getOneHotEncoding('City-Enc'),\n",
    "        'state': getOneHotEncoding('State-Enc')\n",
    "    }\n"
   ]
  },
  {
   "cell_type": "code",
   "execution_count": 38,
   "metadata": {
    "collapsed": true
   },
   "outputs": [],
   "source": [
    "def embeddingsInputLen():\n",
    "    ohcsm = oneHotCodedSparseMatrix()\n",
    "    return {\n",
    "        'author': len(ohcsm['author'].active_features_),\n",
    "        'city': len(ohcsm['city'].active_features_),\n",
    "        'state': len(ohcsm['state'].active_features_)\n",
    "    }"
   ]
  },
  {
   "cell_type": "code",
   "execution_count": 39,
   "metadata": {},
   "outputs": [
    {
     "data": {
      "text/plain": [
       "{'author': 101590, 'city': 7574, 'state': 1065}"
      ]
     },
     "execution_count": 39,
     "metadata": {},
     "output_type": "execute_result"
    }
   ],
   "source": [
    "embeddingsLength = embeddingsInputLen()\n",
    "embeddingsLength"
   ]
  },
  {
   "cell_type": "code",
   "execution_count": 142,
   "metadata": {
    "collapsed": true
   },
   "outputs": [],
   "source": [
    "def getInputLayers(name):\n",
    "    return tf.placeholder(tf.float64, shape=(1, 1), name=name)"
   ]
  },
  {
   "cell_type": "markdown",
   "metadata": {},
   "source": [
    "### Input Layer: Age, City, State, Author, Year of Publish"
   ]
  },
  {
   "cell_type": "code",
   "execution_count": 169,
   "metadata": {},
   "outputs": [],
   "source": [
    "tf.reset_default_graph()\n",
    "input_age = getInputLayers('input_age')\n",
    "input_state = getInputLayers('input_state') \n",
    "input_author = getInputLayers('input_author')\n",
    "input_city = getInputLayers('input_city')\n",
    "input_year = getInputLayers('input_year')"
   ]
  },
  {
   "cell_type": "markdown",
   "metadata": {},
   "source": [
    "### Embeddings: City, State, Author"
   ]
  },
  {
   "cell_type": "code",
   "execution_count": 170,
   "metadata": {},
   "outputs": [],
   "source": [
    "weights_city = tf.get_variable(name=\"city_emb_wt\", shape=[embeddingsLength['city'], 2], initializer=tf.contrib.layers.xavier_initializer(), dtype=tf.float64)\n",
    "encoded_city = tf.one_hot(tf.cast(input_city[0], tf.int64), embeddingsLength['city'])\n",
    "embedding_city_output = tf.nn.relu(tf.matmul(tf.cast(encoded_city, tf.float64), weights_city))"
   ]
  },
  {
   "cell_type": "code",
   "execution_count": 171,
   "metadata": {
    "collapsed": true
   },
   "outputs": [],
   "source": [
    "weights_state = tf.get_variable(name=\"state_emb_wt\", shape=[embeddingsLength['state'], 2], initializer=tf.contrib.layers.xavier_initializer(), dtype=tf.float64)\n",
    "encoded_state = tf.one_hot(tf.cast(input_state[0], tf.int64), embeddingsLength['state'])\n",
    "embedding_state_output = tf.nn.relu(tf.matmul(tf.cast(encoded_state, tf.float64), weights_state))"
   ]
  },
  {
   "cell_type": "code",
   "execution_count": 172,
   "metadata": {
    "collapsed": true
   },
   "outputs": [],
   "source": [
    "weights_author = tf.get_variable(name=\"author_emb_wt\", shape=[embeddingsLength['author'], 2], initializer=tf.contrib.layers.xavier_initializer(), dtype=tf.float64)\n",
    "encoded_author = tf.one_hot(tf.cast(input_author[0], tf.int64), embeddingsLength['author'])\n",
    "embedding_author_output = tf.nn.relu(tf.matmul(tf.cast(encoded_author, tf.float64), weights_author))"
   ]
  },
  {
   "cell_type": "markdown",
   "metadata": {},
   "source": [
    "### Layer 1"
   ]
  },
  {
   "cell_type": "code",
   "execution_count": 173,
   "metadata": {
    "collapsed": true
   },
   "outputs": [],
   "source": [
    "input_x = tf.concat([input_age, embedding_city_output, embedding_state_output, embedding_author_output, input_year], axis=1)\n",
    "weights_1 = tf.get_variable(name=\"weights1\", shape=[8, layer_1_nodes], initializer=tf.contrib.layers.xavier_initializer(), dtype=tf.float64)\n",
    "biases_1 = tf.get_variable(name=\"biases1\", shape=[layer_1_nodes], initializer=tf.zeros_initializer(), dtype=tf.float64)\n",
    "layer_1_output = tf.nn.relu(tf.matmul(input_x, weights_1) + biases_1)"
   ]
  },
  {
   "cell_type": "markdown",
   "metadata": {},
   "source": [
    "### Layer 2"
   ]
  },
  {
   "cell_type": "code",
   "execution_count": 174,
   "metadata": {
    "collapsed": true
   },
   "outputs": [],
   "source": [
    "weights_2 = tf.get_variable(name=\"weights2\", shape=[layer_1_nodes, layer_2_nodes], initializer=tf.contrib.layers.xavier_initializer(), dtype=tf.float64)\n",
    "biases_2 = tf.get_variable(name=\"biases2\", shape=[layer_2_nodes], initializer=tf.zeros_initializer(), dtype=tf.float64)\n",
    "layer_2_output = tf.nn.relu(tf.matmul(layer_1_output, weights_2) + biases_2)"
   ]
  },
  {
   "cell_type": "markdown",
   "metadata": {},
   "source": [
    "### Layer 3"
   ]
  },
  {
   "cell_type": "code",
   "execution_count": 175,
   "metadata": {
    "collapsed": true
   },
   "outputs": [],
   "source": [
    "weights_3 = tf.get_variable(name=\"weights3\", shape=[layer_2_nodes, layer_3_nodes], initializer=tf.contrib.layers.xavier_initializer(), dtype=tf.float64)\n",
    "biases_3 = tf.get_variable(name=\"biases3\", shape=[layer_3_nodes], initializer=tf.zeros_initializer(), dtype=tf.float64)\n",
    "layer_3_output = tf.nn.relu(tf.matmul(layer_2_output, weights_3) + biases_3)"
   ]
  },
  {
   "cell_type": "markdown",
   "metadata": {},
   "source": [
    "### Output"
   ]
  },
  {
   "cell_type": "code",
   "execution_count": 176,
   "metadata": {
    "collapsed": true
   },
   "outputs": [],
   "source": [
    "weights_o = tf.get_variable(\"weights4\", shape=[layer_3_nodes, number_of_outputs], initializer=tf.contrib.layers.xavier_initializer(), dtype=tf.float64)\n",
    "biases_o = tf.get_variable(name=\"biases4\", shape=[number_of_outputs], initializer=tf.zeros_initializer(), dtype=tf.float64)\n",
    "prediction = tf.matmul(layer_3_output, weights_o) + biases_o"
   ]
  },
  {
   "cell_type": "markdown",
   "metadata": {},
   "source": [
    "### Cost"
   ]
  },
  {
   "cell_type": "code",
   "execution_count": 177,
   "metadata": {
    "collapsed": true
   },
   "outputs": [],
   "source": [
    "actual_y = tf.placeholder(tf.float64, shape=(None, 1), name=\"Actual_Y\")\n",
    "cost = tf.reduce_mean(tf.squared_difference(prediction, actual_y))"
   ]
  },
  {
   "cell_type": "markdown",
   "metadata": {},
   "source": [
    "### Optimizer"
   ]
  },
  {
   "cell_type": "code",
   "execution_count": 178,
   "metadata": {
    "collapsed": true
   },
   "outputs": [],
   "source": [
    "optimizer = tf.train.AdamOptimizer(learning_rate).minimize(cost)"
   ]
  },
  {
   "cell_type": "markdown",
   "metadata": {},
   "source": [
    "### Logging"
   ]
  },
  {
   "cell_type": "code",
   "execution_count": 179,
   "metadata": {
    "collapsed": true
   },
   "outputs": [],
   "source": [
    "with tf.variable_scope('logging'):\n",
    "    tf.summary.scalar('current_cost', cost)\n",
    "    summary = tf.summary.merge_all()"
   ]
  },
  {
   "cell_type": "code",
   "execution_count": 216,
   "metadata": {},
   "outputs": [
    {
     "data": {
      "text/plain": [
       "Index(['Book-Rating'], dtype='object')"
      ]
     },
     "execution_count": 216,
     "metadata": {},
     "output_type": "execute_result"
    }
   ],
   "source": [
    "y.columns"
   ]
  },
  {
   "cell_type": "code",
   "execution_count": 217,
   "metadata": {},
   "outputs": [],
   "source": [
    "def getFeedDict(idx):\n",
    "    try:\n",
    "        age = X.loc[idx,'Age'].reshape(1,1)\n",
    "        yop = X.loc[idx,'Year-Of-Publication'].reshape(1,1)\n",
    "        pub = X.loc[idx,'Publisher-Enc'].reshape(1,1)\n",
    "        atr = X.loc[idx,'Book-Author-Enc'].reshape(1,1)\n",
    "        city = X.loc[idx,'City-Enc'].reshape(1,1)\n",
    "        state = X.loc[idx,'State-Enc'].reshape(1,1)\n",
    "        output = y.loc[idx,'Book-Rating'].reshape(1,1)\n",
    "    except:\n",
    "        print(idx)\n",
    "        raise IndexError(\"single positional indexer is out-of-bounds\") \n",
    "    return {input_age: age, input_year: yop, input_author: atr, input_city: city, input_state: state, actual_y: output}"
   ]
  },
  {
   "cell_type": "markdown",
   "metadata": {},
   "source": [
    "### Session Initialization"
   ]
  },
  {
   "cell_type": "code",
   "execution_count": 219,
   "metadata": {},
   "outputs": [
    {
     "name": "stdout",
     "output_type": "stream",
     "text": [
      "Testing Cost: 7.799451156407845\n"
     ]
    }
   ],
   "source": [
    "%%time\n",
    "with tf.Session() as session:\n",
    "    # Create log file writers to record training progress.\n",
    "    # We'll store training and testing log data separately.\n",
    "    training_writer = tf.summary.FileWriter(\"./logs/{}/training\".format(RUN_NAME), session.graph)\n",
    "    testing_writer = tf.summary.FileWriter(\"./logs/{}/testing\".format(RUN_NAME), session.graph)\n",
    "\n",
    "    # Run the global variable initializer to initialize all variables and layers of the neural network\n",
    "    session.run(tf.global_variables_initializer())\n",
    "    # Run the optimizer over and over to train the network.\n",
    "    # One epoch is one full run through the training data set.\n",
    "    for epoch in range(1):\n",
    "        # Feed in the training data and do one step of neural network training\n",
    "        # 'Age', 'Year-Of-Publication', 'Book-Author-Enc', 'City-Enc','State-Enc'\n",
    "        for row in X_train.itertuples():\n",
    "            feedDict = getFeedDict(row.Index)\n",
    "            session.run(optimizer, feed_dict=feedDict)\n",
    "        '''\n",
    "        if epoch % 5 == 0:\n",
    "            # Get the current accuracy scores by running the \"cost\" operation on the training and test data sets\n",
    "            for row in X_train.itertuples():\n",
    "                feedDict = getFeedDict(row.Index)\n",
    "                training_cost, training_summary = session.run([cost, summary], feed_dict=feedDict)\n",
    "            for row in X_test.itertuples():\n",
    "                feedDict = getFeedDict(row.Index)\n",
    "                testing_cost, training_summary = session.run([cost, summary], feed_dict=feedDict)\n",
    "            # Write the current training status to the log files (Which we can view with TensorBoard)\n",
    "            training_writer.add_summary(training_summary, epoch)\n",
    "            testing_writer.add_summary(testing_summary, epoch)\n",
    "            # Print the current training status to the screen\n",
    "            print(\"Epoch: {} - Training Cost: {}  Testing Cost: {}\".format(epoch, training_cost, testing_cost))\n",
    "        '''\n",
    "    for row in X_test.itertuples():\n",
    "        feedDict = getFeedDict(row.Index)\n",
    "        testing_cost, training_summary = session.run([cost, summary], feed_dict=feedDict)\n",
    "    print(\"Testing Cost: {}\".format(testing_cost))\n",
    "\n",
    "        "
   ]
  },
  {
   "cell_type": "code",
   "execution_count": null,
   "metadata": {},
   "outputs": [],
   "source": [
    "%%time\n",
    "train_cost = {};\n",
    "test_cost = {};\n",
    "with tf.Session() as session:\n",
    "    # Create log file writers to record training progress.\n",
    "    # We'll store training and testing log data separately.\n",
    "    training_writer = tf.summary.FileWriter(\"./logs/{}/training\".format(RUN_NAME), session.graph)\n",
    "    testing_writer = tf.summary.FileWriter(\"./logs/{}/testing\".format(RUN_NAME), session.graph)\n",
    "\n",
    "    # Run the global variable initializer to initialize all variables and layers of the neural network\n",
    "    session.run(tf.global_variables_initializer())\n",
    "    # Run the optimizer over and over to train the network.\n",
    "    # One epoch is one full run through the training data set.\n",
    "    for epoch in range(training_epochs):\n",
    "        # Feed in the training data and do one step of neural network training\n",
    "        # 'Age', 'Year-Of-Publication', 'Book-Author-Enc', 'City-Enc','State-Enc'\n",
    "        for row in X_train.itertuples():\n",
    "            feedDict = getFeedDict(row.Index)\n",
    "            session.run(optimizer, feed_dict=feedDict)\n",
    "        if epoch % 5 == 0:\n",
    "            # Get the current accuracy scores by running the \"cost\" operation on the training and test data sets\n",
    "            for row in X_train.itertuples():\n",
    "                feedDict = getFeedDict(row.Index)\n",
    "                training_cost, training_summary = session.run([cost, summary], feed_dict=feedDict)\n",
    "            for row in X_test.itertuples():\n",
    "                feedDict = getFeedDict(row.Index)\n",
    "                testing_cost, testing_summary = session.run([cost, summary], feed_dict=feedDict)\n",
    "            # Write the current training status to the log files (Which we can view with TensorBoard)\n",
    "            training_writer.add_summary(training_summary, epoch)\n",
    "            testing_writer.add_summary(testing_summary, epoch)\n",
    "            # Print the current training status to the screen\n",
    "            train_cost[epoch] = training_cost;\n",
    "            test_cost[epoch] = testing_cost;\n",
    "            print(\"Epoch: {} - Training Cost: {}  Testing Cost: {}\".format(epoch, training_cost, testing_cost))\n",
    "    for row in X_test.itertuples():\n",
    "        feedDict = getFeedDict(row.Index)\n",
    "        testing_cost, training_summary = session.run([cost, summary], feed_dict=feedDict)\n",
    "    print(\"Testing Cost: {}\".format(testing_cost))\n",
    "\n",
    "        "
   ]
  },
  {
   "cell_type": "code",
   "execution_count": 32,
   "metadata": {},
   "outputs": [
    {
     "name": "stdout",
     "output_type": "stream",
     "text": [
      "/usr/local/anaconda/lib/python3.6/importlib/_bootstrap.py:205: RuntimeWarning: compiletime version 3.5 of module 'tensorflow.python.framework.fast_tensor_util' does not match runtime version 3.6\n",
      "  return f(*args, **kwds)\n",
      "TensorBoard 0.4.0 at http://domino-run-5e98554246e0fb000c9a3010:6006 (Press CTRL+C to quit)\n",
      "\u001b[33mW0416 13:27:50.828567 Reloader tf_logging.py:86] Found more than one graph event per run, or there was a metagraph containing a graph_def, as well as one or more graph events.  Overwriting the graph with the newest event.\n",
      "\u001b[0m\u001b[33mW0416 13:27:50.829031 Reloader tf_logging.py:86] Found more than one metagraph event per run. Overwriting the metagraph with the newest event.\n",
      "\u001b[0m\u001b[33mW0416 13:27:50.837380 Reloader tf_logging.py:86] Found more than one graph event per run, or there was a metagraph containing a graph_def, as well as one or more graph events.  Overwriting the graph with the newest event.\n",
      "\u001b[0m\u001b[33mW0416 13:27:50.837770 Reloader tf_logging.py:86] Found more than one metagraph event per run. Overwriting the metagraph with the newest event.\n",
      "\u001b[0m^C\n"
     ]
    }
   ],
   "source": [
    "! tensorboard --logdir \"./logs\""
   ]
  },
  {
   "cell_type": "code",
   "execution_count": 85,
   "metadata": {},
   "outputs": [
    {
     "data": {
      "text/plain": [
       "array([1.2, 'abc'], dtype=object)"
      ]
     },
     "execution_count": 85,
     "metadata": {},
     "output_type": "execute_result"
    }
   ],
   "source": [
    "import numpy \n",
    "numpy.array([1.2, \"abc\"], dtype=object)"
   ]
  }
 ],
 "metadata": {
  "kernelspec": {
   "display_name": "Python 3",
   "language": "python",
   "name": "python3"
  },
  "language_info": {
   "codemirror_mode": {
    "name": "ipython",
    "version": 3
   },
   "file_extension": ".py",
   "mimetype": "text/x-python",
   "name": "python",
   "nbconvert_exporter": "python",
   "pygments_lexer": "ipython3",
   "version": "3.6.2"
  }
 },
 "nbformat": 4,
 "nbformat_minor": 2
}
