{
 "cells": [
  {
   "cell_type": "code",
   "execution_count": 12,
   "metadata": {},
   "outputs": [],
   "source": [
    "import tensorflow as tf\n",
    "import pandas as pd\n",
    "import calendar\n",
    "import time\n",
    "import numpy as np\n",
    "import math\n",
    "import matplotlib.pyplot as plt\n",
    "from sklearn.model_selection import train_test_split\n",
    "from sklearn.preprocessing import LabelEncoder"
   ]
  },
  {
   "cell_type": "code",
   "execution_count": 4,
   "metadata": {},
   "outputs": [
    {
     "data": {
      "text/plain": [
       "'2.2.0'"
      ]
     },
     "execution_count": 4,
     "metadata": {},
     "output_type": "execute_result"
    }
   ],
   "source": [
    "tf.version.VERSION"
   ]
  },
  {
   "cell_type": "code",
   "execution_count": 6,
   "metadata": {},
   "outputs": [],
   "source": [
    "books = pd.read_csv(r\"../Dataset/Final/BX-Books.csv\")\n",
    "ratings = pd.read_csv(r\"../Dataset/Final/BX-Book-Ratings.csv\", sep=\";\")\n",
    "users = pd.read_csv(r\"../Dataset/Final/BX-Users.csv\")"
   ]
  },
  {
   "cell_type": "code",
   "execution_count": 95,
   "metadata": {},
   "outputs": [
    {
     "data": {
      "text/html": [
       "<div>\n",
       "<style>\n",
       "    .dataframe thead tr:only-child th {\n",
       "        text-align: right;\n",
       "    }\n",
       "\n",
       "    .dataframe thead th {\n",
       "        text-align: left;\n",
       "    }\n",
       "\n",
       "    .dataframe tbody tr th {\n",
       "        vertical-align: top;\n",
       "    }\n",
       "</style>\n",
       "<table border=\"1\" class=\"dataframe\">\n",
       "  <thead>\n",
       "    <tr style=\"text-align: right;\">\n",
       "      <th></th>\n",
       "      <th>User-ID</th>\n",
       "      <th>ISBN</th>\n",
       "      <th>Book-Rating</th>\n",
       "    </tr>\n",
       "  </thead>\n",
       "  <tbody>\n",
       "    <tr>\n",
       "      <th>0</th>\n",
       "      <td>276725</td>\n",
       "      <td>034545104X</td>\n",
       "      <td>0</td>\n",
       "    </tr>\n",
       "    <tr>\n",
       "      <th>1</th>\n",
       "      <td>276726</td>\n",
       "      <td>0155061224</td>\n",
       "      <td>5</td>\n",
       "    </tr>\n",
       "    <tr>\n",
       "      <th>2</th>\n",
       "      <td>276727</td>\n",
       "      <td>0446520802</td>\n",
       "      <td>0</td>\n",
       "    </tr>\n",
       "    <tr>\n",
       "      <th>3</th>\n",
       "      <td>276729</td>\n",
       "      <td>052165615X</td>\n",
       "      <td>3</td>\n",
       "    </tr>\n",
       "    <tr>\n",
       "      <th>4</th>\n",
       "      <td>276729</td>\n",
       "      <td>0521795028</td>\n",
       "      <td>6</td>\n",
       "    </tr>\n",
       "  </tbody>\n",
       "</table>\n",
       "</div>"
      ],
      "text/plain": [
       "   User-ID        ISBN  Book-Rating\n",
       "0   276725  034545104X            0\n",
       "1   276726  0155061224            5\n",
       "2   276727  0446520802            0\n",
       "3   276729  052165615X            3\n",
       "4   276729  0521795028            6"
      ]
     },
     "execution_count": 95,
     "metadata": {},
     "output_type": "execute_result"
    }
   ],
   "source": [
    "ratings.head()"
   ]
  },
  {
   "cell_type": "code",
   "execution_count": 96,
   "metadata": {},
   "outputs": [
    {
     "data": {
      "text/html": [
       "<div>\n",
       "<style>\n",
       "    .dataframe thead tr:only-child th {\n",
       "        text-align: right;\n",
       "    }\n",
       "\n",
       "    .dataframe thead th {\n",
       "        text-align: left;\n",
       "    }\n",
       "\n",
       "    .dataframe tbody tr th {\n",
       "        vertical-align: top;\n",
       "    }\n",
       "</style>\n",
       "<table border=\"1\" class=\"dataframe\">\n",
       "  <thead>\n",
       "    <tr style=\"text-align: right;\">\n",
       "      <th></th>\n",
       "      <th>User-ID</th>\n",
       "      <th>Age</th>\n",
       "      <th>City</th>\n",
       "      <th>State</th>\n",
       "      <th>Country</th>\n",
       "    </tr>\n",
       "  </thead>\n",
       "  <tbody>\n",
       "    <tr>\n",
       "      <th>0</th>\n",
       "      <td>1</td>\n",
       "      <td>20.0</td>\n",
       "      <td>Airmont</td>\n",
       "      <td>New York</td>\n",
       "      <td>United States</td>\n",
       "    </tr>\n",
       "    <tr>\n",
       "      <th>1</th>\n",
       "      <td>2</td>\n",
       "      <td>18.0</td>\n",
       "      <td>Stockton</td>\n",
       "      <td>California</td>\n",
       "      <td>United States</td>\n",
       "    </tr>\n",
       "    <tr>\n",
       "      <th>2</th>\n",
       "      <td>3</td>\n",
       "      <td>21.0</td>\n",
       "      <td>Moscow</td>\n",
       "      <td>Moscow</td>\n",
       "      <td>Russia</td>\n",
       "    </tr>\n",
       "    <tr>\n",
       "      <th>3</th>\n",
       "      <td>4</td>\n",
       "      <td>17.0</td>\n",
       "      <td>Porto</td>\n",
       "      <td>Norte</td>\n",
       "      <td>Portugal</td>\n",
       "    </tr>\n",
       "    <tr>\n",
       "      <th>4</th>\n",
       "      <td>5</td>\n",
       "      <td>23.0</td>\n",
       "      <td>Farnborough</td>\n",
       "      <td>England</td>\n",
       "      <td>United Kingdom</td>\n",
       "    </tr>\n",
       "  </tbody>\n",
       "</table>\n",
       "</div>"
      ],
      "text/plain": [
       "   User-ID   Age         City       State         Country\n",
       "0        1  20.0      Airmont    New York   United States\n",
       "1        2  18.0     Stockton  California   United States\n",
       "2        3  21.0       Moscow      Moscow          Russia\n",
       "3        4  17.0        Porto       Norte        Portugal\n",
       "4        5  23.0  Farnborough     England  United Kingdom"
      ]
     },
     "execution_count": 96,
     "metadata": {},
     "output_type": "execute_result"
    }
   ],
   "source": [
    "users.head()"
   ]
  },
  {
   "cell_type": "code",
   "execution_count": 97,
   "metadata": {},
   "outputs": [
    {
     "data": {
      "text/html": [
       "<div>\n",
       "<style>\n",
       "    .dataframe thead tr:only-child th {\n",
       "        text-align: right;\n",
       "    }\n",
       "\n",
       "    .dataframe thead th {\n",
       "        text-align: left;\n",
       "    }\n",
       "\n",
       "    .dataframe tbody tr th {\n",
       "        vertical-align: top;\n",
       "    }\n",
       "</style>\n",
       "<table border=\"1\" class=\"dataframe\">\n",
       "  <thead>\n",
       "    <tr style=\"text-align: right;\">\n",
       "      <th></th>\n",
       "      <th>ISBN</th>\n",
       "      <th>Book-Title</th>\n",
       "      <th>Book-Author</th>\n",
       "      <th>Year-Of-Publication</th>\n",
       "      <th>Publisher</th>\n",
       "      <th>Image-URL-S</th>\n",
       "      <th>Image-URL-M</th>\n",
       "      <th>Image-URL-L</th>\n",
       "      <th>g_year-of-publication</th>\n",
       "      <th>g_categories</th>\n",
       "      <th>g_processed</th>\n",
       "    </tr>\n",
       "  </thead>\n",
       "  <tbody>\n",
       "    <tr>\n",
       "      <th>0</th>\n",
       "      <td>0195153448</td>\n",
       "      <td>Classical Mythology</td>\n",
       "      <td>Mark P. O. Morford</td>\n",
       "      <td>2002</td>\n",
       "      <td>Oxford University Press</td>\n",
       "      <td>http://images.amazon.com/images/P/0195153448.0...</td>\n",
       "      <td>http://images.amazon.com/images/P/0195153448.0...</td>\n",
       "      <td>http://images.amazon.com/images/P/0195153448.0...</td>\n",
       "      <td>2003</td>\n",
       "      <td>Social Science</td>\n",
       "      <td>1</td>\n",
       "    </tr>\n",
       "    <tr>\n",
       "      <th>1</th>\n",
       "      <td>0002005018</td>\n",
       "      <td>Clara Callan</td>\n",
       "      <td>Richard Bruce Wright</td>\n",
       "      <td>2001</td>\n",
       "      <td>HarperFlamingo Canada</td>\n",
       "      <td>http://images.amazon.com/images/P/0002005018.0...</td>\n",
       "      <td>http://images.amazon.com/images/P/0002005018.0...</td>\n",
       "      <td>http://images.amazon.com/images/P/0002005018.0...</td>\n",
       "      <td>2001</td>\n",
       "      <td>Actresses</td>\n",
       "      <td>1</td>\n",
       "    </tr>\n",
       "    <tr>\n",
       "      <th>2</th>\n",
       "      <td>0060973129</td>\n",
       "      <td>Decision in Normandy</td>\n",
       "      <td>Carlo D'Este</td>\n",
       "      <td>1991</td>\n",
       "      <td>HarperPerennial</td>\n",
       "      <td>http://images.amazon.com/images/P/0060973129.0...</td>\n",
       "      <td>http://images.amazon.com/images/P/0060973129.0...</td>\n",
       "      <td>http://images.amazon.com/images/P/0060973129.0...</td>\n",
       "      <td>1983</td>\n",
       "      <td>1940-1949</td>\n",
       "      <td>1</td>\n",
       "    </tr>\n",
       "    <tr>\n",
       "      <th>3</th>\n",
       "      <td>0374157065</td>\n",
       "      <td>Flu: The Story of the Great Influenza Pandemic...</td>\n",
       "      <td>Gina Bari Kolata</td>\n",
       "      <td>1999</td>\n",
       "      <td>Farrar Straus Giroux</td>\n",
       "      <td>http://images.amazon.com/images/P/0374157065.0...</td>\n",
       "      <td>http://images.amazon.com/images/P/0374157065.0...</td>\n",
       "      <td>http://images.amazon.com/images/P/0374157065.0...</td>\n",
       "      <td>1999</td>\n",
       "      <td>Medical</td>\n",
       "      <td>1</td>\n",
       "    </tr>\n",
       "    <tr>\n",
       "      <th>4</th>\n",
       "      <td>0393045218</td>\n",
       "      <td>The Mummies of Urumchi</td>\n",
       "      <td>E. J. W. Barber</td>\n",
       "      <td>1999</td>\n",
       "      <td>W. W. Norton &amp;amp; Company</td>\n",
       "      <td>http://images.amazon.com/images/P/0393045218.0...</td>\n",
       "      <td>http://images.amazon.com/images/P/0393045218.0...</td>\n",
       "      <td>http://images.amazon.com/images/P/0393045218.0...</td>\n",
       "      <td>1999</td>\n",
       "      <td>Design</td>\n",
       "      <td>1</td>\n",
       "    </tr>\n",
       "  </tbody>\n",
       "</table>\n",
       "</div>"
      ],
      "text/plain": [
       "         ISBN                                         Book-Title  \\\n",
       "0  0195153448                                Classical Mythology   \n",
       "1  0002005018                                       Clara Callan   \n",
       "2  0060973129                               Decision in Normandy   \n",
       "3  0374157065  Flu: The Story of the Great Influenza Pandemic...   \n",
       "4  0393045218                             The Mummies of Urumchi   \n",
       "\n",
       "            Book-Author  Year-Of-Publication                   Publisher  \\\n",
       "0    Mark P. O. Morford                 2002     Oxford University Press   \n",
       "1  Richard Bruce Wright                 2001       HarperFlamingo Canada   \n",
       "2          Carlo D'Este                 1991             HarperPerennial   \n",
       "3      Gina Bari Kolata                 1999        Farrar Straus Giroux   \n",
       "4       E. J. W. Barber                 1999  W. W. Norton &amp; Company   \n",
       "\n",
       "                                         Image-URL-S  \\\n",
       "0  http://images.amazon.com/images/P/0195153448.0...   \n",
       "1  http://images.amazon.com/images/P/0002005018.0...   \n",
       "2  http://images.amazon.com/images/P/0060973129.0...   \n",
       "3  http://images.amazon.com/images/P/0374157065.0...   \n",
       "4  http://images.amazon.com/images/P/0393045218.0...   \n",
       "\n",
       "                                         Image-URL-M  \\\n",
       "0  http://images.amazon.com/images/P/0195153448.0...   \n",
       "1  http://images.amazon.com/images/P/0002005018.0...   \n",
       "2  http://images.amazon.com/images/P/0060973129.0...   \n",
       "3  http://images.amazon.com/images/P/0374157065.0...   \n",
       "4  http://images.amazon.com/images/P/0393045218.0...   \n",
       "\n",
       "                                         Image-URL-L g_year-of-publication  \\\n",
       "0  http://images.amazon.com/images/P/0195153448.0...                  2003   \n",
       "1  http://images.amazon.com/images/P/0002005018.0...                  2001   \n",
       "2  http://images.amazon.com/images/P/0060973129.0...                  1983   \n",
       "3  http://images.amazon.com/images/P/0374157065.0...                  1999   \n",
       "4  http://images.amazon.com/images/P/0393045218.0...                  1999   \n",
       "\n",
       "     g_categories  g_processed  \n",
       "0  Social Science            1  \n",
       "1       Actresses            1  \n",
       "2       1940-1949            1  \n",
       "3         Medical            1  \n",
       "4          Design            1  "
      ]
     },
     "execution_count": 97,
     "metadata": {},
     "output_type": "execute_result"
    }
   ],
   "source": [
    "books.head()"
   ]
  },
  {
   "cell_type": "code",
   "execution_count": 7,
   "metadata": {},
   "outputs": [],
   "source": [
    "full_data_df = ratings.merge(books,on='ISBN').merge(users,on='User-ID')"
   ]
  },
  {
   "cell_type": "code",
   "execution_count": 99,
   "metadata": {},
   "outputs": [
    {
     "data": {
      "text/plain": [
       "User-ID                  1031173\n",
       "ISBN                     1031173\n",
       "Book-Rating              1031173\n",
       "Book-Title               1031173\n",
       "Book-Author              1031172\n",
       "Year-Of-Publication      1031173\n",
       "Publisher                1031171\n",
       "Image-URL-S              1031173\n",
       "Image-URL-M              1031173\n",
       "Image-URL-L              1031173\n",
       "g_year-of-publication    1031173\n",
       "g_categories             1031173\n",
       "g_processed              1031173\n",
       "Age                      1031173\n",
       "City                     1031173\n",
       "State                    1031173\n",
       "Country                  1031173\n",
       "dtype: int64"
      ]
     },
     "execution_count": 99,
     "metadata": {},
     "output_type": "execute_result"
    }
   ],
   "source": [
    "full_data_df.count()"
   ]
  },
  {
   "cell_type": "code",
   "execution_count": 8,
   "metadata": {},
   "outputs": [],
   "source": [
    "useful_data_df = full_data_df[['City', 'State', 'Country', 'Age', 'Book-Author', 'Year-Of-Publication', 'Publisher', 'Book-Rating']].dropna()"
   ]
  },
  {
   "cell_type": "code",
   "execution_count": 101,
   "metadata": {},
   "outputs": [
    {
     "data": {
      "text/html": [
       "<div>\n",
       "<style>\n",
       "    .dataframe thead tr:only-child th {\n",
       "        text-align: right;\n",
       "    }\n",
       "\n",
       "    .dataframe thead th {\n",
       "        text-align: left;\n",
       "    }\n",
       "\n",
       "    .dataframe tbody tr th {\n",
       "        vertical-align: top;\n",
       "    }\n",
       "</style>\n",
       "<table border=\"1\" class=\"dataframe\">\n",
       "  <thead>\n",
       "    <tr style=\"text-align: right;\">\n",
       "      <th></th>\n",
       "      <th>City</th>\n",
       "      <th>State</th>\n",
       "      <th>Country</th>\n",
       "      <th>Age</th>\n",
       "      <th>Book-Author</th>\n",
       "      <th>Year-Of-Publication</th>\n",
       "      <th>Publisher</th>\n",
       "      <th>Book-Rating</th>\n",
       "    </tr>\n",
       "  </thead>\n",
       "  <tbody>\n",
       "    <tr>\n",
       "      <th>0</th>\n",
       "      <td>Tyler</td>\n",
       "      <td>Texas</td>\n",
       "      <td>United States</td>\n",
       "      <td>21.0</td>\n",
       "      <td>M. J. Rose</td>\n",
       "      <td>2002</td>\n",
       "      <td>Ballantine Books</td>\n",
       "      <td>0</td>\n",
       "    </tr>\n",
       "    <tr>\n",
       "      <th>1</th>\n",
       "      <td>Cincinnati</td>\n",
       "      <td>Ohio</td>\n",
       "      <td>United States</td>\n",
       "      <td>23.0</td>\n",
       "      <td>M. J. Rose</td>\n",
       "      <td>2002</td>\n",
       "      <td>Ballantine Books</td>\n",
       "      <td>5</td>\n",
       "    </tr>\n",
       "    <tr>\n",
       "      <th>2</th>\n",
       "      <td>Cincinnati</td>\n",
       "      <td>Ohio</td>\n",
       "      <td>United States</td>\n",
       "      <td>23.0</td>\n",
       "      <td>Orson Scott Card</td>\n",
       "      <td>1986</td>\n",
       "      <td>Tor Books</td>\n",
       "      <td>9</td>\n",
       "    </tr>\n",
       "    <tr>\n",
       "      <th>3</th>\n",
       "      <td>Cincinnati</td>\n",
       "      <td>Ohio</td>\n",
       "      <td>United States</td>\n",
       "      <td>23.0</td>\n",
       "      <td>TRUMAN CAPOTE</td>\n",
       "      <td>1994</td>\n",
       "      <td>Vintage</td>\n",
       "      <td>8</td>\n",
       "    </tr>\n",
       "    <tr>\n",
       "      <th>4</th>\n",
       "      <td>Cincinnati</td>\n",
       "      <td>Ohio</td>\n",
       "      <td>United States</td>\n",
       "      <td>23.0</td>\n",
       "      <td>Rebecca Wells</td>\n",
       "      <td>1996</td>\n",
       "      <td>HarperCollins</td>\n",
       "      <td>9</td>\n",
       "    </tr>\n",
       "  </tbody>\n",
       "</table>\n",
       "</div>"
      ],
      "text/plain": [
       "         City  State        Country   Age       Book-Author  \\\n",
       "0       Tyler  Texas  United States  21.0        M. J. Rose   \n",
       "1  Cincinnati   Ohio  United States  23.0        M. J. Rose   \n",
       "2  Cincinnati   Ohio  United States  23.0  Orson Scott Card   \n",
       "3  Cincinnati   Ohio  United States  23.0     TRUMAN CAPOTE   \n",
       "4  Cincinnati   Ohio  United States  23.0     Rebecca Wells   \n",
       "\n",
       "   Year-Of-Publication         Publisher  Book-Rating  \n",
       "0                 2002  Ballantine Books            0  \n",
       "1                 2002  Ballantine Books            5  \n",
       "2                 1986         Tor Books            9  \n",
       "3                 1994           Vintage            8  \n",
       "4                 1996     HarperCollins            9  "
      ]
     },
     "execution_count": 101,
     "metadata": {},
     "output_type": "execute_result"
    }
   ],
   "source": [
    "useful_data_df.head()"
   ]
  },
  {
   "cell_type": "code",
   "execution_count": 9,
   "metadata": {},
   "outputs": [],
   "source": [
    "def getLabelEncodedColumn(col, df):\n",
    "    le = LabelEncoder()\n",
    "    return le.fit_transform(df[col].values).reshape(-1,1)"
   ]
  },
  {
   "cell_type": "code",
   "execution_count": 103,
   "metadata": {},
   "outputs": [
    {
     "data": {
      "text/plain": [
       "City                   1031170\n",
       "State                  1031170\n",
       "Country                1031170\n",
       "Age                    1031170\n",
       "Book-Author            1031170\n",
       "Year-Of-Publication    1031170\n",
       "Publisher              1031170\n",
       "Book-Rating            1031170\n",
       "dtype: int64"
      ]
     },
     "execution_count": 103,
     "metadata": {},
     "output_type": "execute_result"
    }
   ],
   "source": [
    "useful_data_df.count()"
   ]
  },
  {
   "cell_type": "code",
   "execution_count": 13,
   "metadata": {},
   "outputs": [],
   "source": [
    "useful_data_df['Book-Author-Enc'] = getLabelEncodedColumn('Book-Author', useful_data_df)\n",
    "useful_data_df['City-Enc'] = getLabelEncodedColumn('City', useful_data_df)\n",
    "useful_data_df['State-Enc'] = getLabelEncodedColumn('State', useful_data_df)\n",
    "useful_data_df['Country-Enc'] = getLabelEncodedColumn('Country', useful_data_df)\n",
    "useful_data_df['Publisher-Enc'] = getLabelEncodedColumn('Publisher', useful_data_df)"
   ]
  },
  {
   "cell_type": "markdown",
   "metadata": {},
   "source": [
    "### Saving the processed dataframe"
   ]
  },
  {
   "cell_type": "code",
   "execution_count": 14,
   "metadata": {},
   "outputs": [],
   "source": [
    "useful_data_df.to_csv(r\"../Dataset/Work/tf_working_dataset.csv\", index=False, index_label=None)"
   ]
  },
  {
   "cell_type": "code",
   "execution_count": 16,
   "metadata": {},
   "outputs": [],
   "source": [
    "useful_data_df = pd.read_csv(r\"../Dataset/Work/tf_working_dataset.csv\")"
   ]
  },
  {
   "cell_type": "code",
   "execution_count": 17,
   "metadata": {},
   "outputs": [
    {
     "data": {
      "text/html": [
       "<div>\n",
       "<style scoped>\n",
       "    .dataframe tbody tr th:only-of-type {\n",
       "        vertical-align: middle;\n",
       "    }\n",
       "\n",
       "    .dataframe tbody tr th {\n",
       "        vertical-align: top;\n",
       "    }\n",
       "\n",
       "    .dataframe thead th {\n",
       "        text-align: right;\n",
       "    }\n",
       "</style>\n",
       "<table border=\"1\" class=\"dataframe\">\n",
       "  <thead>\n",
       "    <tr style=\"text-align: right;\">\n",
       "      <th></th>\n",
       "      <th>City</th>\n",
       "      <th>State</th>\n",
       "      <th>Country</th>\n",
       "      <th>Age</th>\n",
       "      <th>Book-Author</th>\n",
       "      <th>Year-Of-Publication</th>\n",
       "      <th>Publisher</th>\n",
       "      <th>Book-Rating</th>\n",
       "      <th>Book-Author-Enc</th>\n",
       "      <th>City-Enc</th>\n",
       "      <th>State-Enc</th>\n",
       "      <th>Country-Enc</th>\n",
       "      <th>Publisher-Enc</th>\n",
       "    </tr>\n",
       "  </thead>\n",
       "  <tbody>\n",
       "    <tr>\n",
       "      <th>0</th>\n",
       "      <td>Tyler</td>\n",
       "      <td>Texas</td>\n",
       "      <td>United States</td>\n",
       "      <td>21.0</td>\n",
       "      <td>M. J. Rose</td>\n",
       "      <td>2002</td>\n",
       "      <td>Ballantine Books</td>\n",
       "      <td>0</td>\n",
       "      <td>61693</td>\n",
       "      <td>6860</td>\n",
       "      <td>927</td>\n",
       "      <td>157</td>\n",
       "      <td>1391</td>\n",
       "    </tr>\n",
       "    <tr>\n",
       "      <th>1</th>\n",
       "      <td>Cincinnati</td>\n",
       "      <td>Ohio</td>\n",
       "      <td>United States</td>\n",
       "      <td>23.0</td>\n",
       "      <td>M. J. Rose</td>\n",
       "      <td>2002</td>\n",
       "      <td>Ballantine Books</td>\n",
       "      <td>5</td>\n",
       "      <td>61693</td>\n",
       "      <td>1526</td>\n",
       "      <td>686</td>\n",
       "      <td>157</td>\n",
       "      <td>1391</td>\n",
       "    </tr>\n",
       "    <tr>\n",
       "      <th>2</th>\n",
       "      <td>Cincinnati</td>\n",
       "      <td>Ohio</td>\n",
       "      <td>United States</td>\n",
       "      <td>23.0</td>\n",
       "      <td>Orson Scott Card</td>\n",
       "      <td>1986</td>\n",
       "      <td>Tor Books</td>\n",
       "      <td>9</td>\n",
       "      <td>73674</td>\n",
       "      <td>1526</td>\n",
       "      <td>686</td>\n",
       "      <td>157</td>\n",
       "      <td>14901</td>\n",
       "    </tr>\n",
       "    <tr>\n",
       "      <th>3</th>\n",
       "      <td>Cincinnati</td>\n",
       "      <td>Ohio</td>\n",
       "      <td>United States</td>\n",
       "      <td>23.0</td>\n",
       "      <td>TRUMAN CAPOTE</td>\n",
       "      <td>1994</td>\n",
       "      <td>Vintage</td>\n",
       "      <td>8</td>\n",
       "      <td>93471</td>\n",
       "      <td>1526</td>\n",
       "      <td>686</td>\n",
       "      <td>157</td>\n",
       "      <td>15650</td>\n",
       "    </tr>\n",
       "    <tr>\n",
       "      <th>4</th>\n",
       "      <td>Cincinnati</td>\n",
       "      <td>Ohio</td>\n",
       "      <td>United States</td>\n",
       "      <td>23.0</td>\n",
       "      <td>Rebecca Wells</td>\n",
       "      <td>1996</td>\n",
       "      <td>HarperCollins</td>\n",
       "      <td>9</td>\n",
       "      <td>80510</td>\n",
       "      <td>1526</td>\n",
       "      <td>686</td>\n",
       "      <td>157</td>\n",
       "      <td>6614</td>\n",
       "    </tr>\n",
       "  </tbody>\n",
       "</table>\n",
       "</div>"
      ],
      "text/plain": [
       "         City  State        Country   Age       Book-Author  \\\n",
       "0       Tyler  Texas  United States  21.0        M. J. Rose   \n",
       "1  Cincinnati   Ohio  United States  23.0        M. J. Rose   \n",
       "2  Cincinnati   Ohio  United States  23.0  Orson Scott Card   \n",
       "3  Cincinnati   Ohio  United States  23.0     TRUMAN CAPOTE   \n",
       "4  Cincinnati   Ohio  United States  23.0     Rebecca Wells   \n",
       "\n",
       "   Year-Of-Publication         Publisher  Book-Rating  Book-Author-Enc  \\\n",
       "0                 2002  Ballantine Books            0            61693   \n",
       "1                 2002  Ballantine Books            5            61693   \n",
       "2                 1986         Tor Books            9            73674   \n",
       "3                 1994           Vintage            8            93471   \n",
       "4                 1996     HarperCollins            9            80510   \n",
       "\n",
       "   City-Enc  State-Enc  Country-Enc  Publisher-Enc  \n",
       "0      6860        927          157           1391  \n",
       "1      1526        686          157           1391  \n",
       "2      1526        686          157          14901  \n",
       "3      1526        686          157          15650  \n",
       "4      1526        686          157           6614  "
      ]
     },
     "execution_count": 17,
     "metadata": {},
     "output_type": "execute_result"
    }
   ],
   "source": [
    "useful_data_df.head()"
   ]
  },
  {
   "cell_type": "markdown",
   "metadata": {},
   "source": [
    "### Dataset: Train, Test"
   ]
  },
  {
   "cell_type": "code",
   "execution_count": 18,
   "metadata": {},
   "outputs": [],
   "source": [
    "training_df = useful_data_df.filter(['Age', 'Year-Of-Publication','Publisher-Enc',\n",
    "                                   'Book-Author-Enc', 'City-Enc','State-Enc', 'Book-Rating']).head(1000)\n",
    "X, y = training_df.drop('Book-Rating', axis=1), training_df[['Book-Rating']]\n",
    "X_train, X_test, y_train, y_test = train_test_split(X, y, test_size=0.33, random_state=42)"
   ]
  },
  {
   "cell_type": "code",
   "execution_count": 89,
   "metadata": {},
   "outputs": [],
   "source": [
    "from sklearn.preprocessing import OneHotEncoder\n",
    "def getOneHotEncoding(column):\n",
    "    enc = OneHotEncoder(handle_unknown='ignore')\n",
    "    enc.fit_transform(useful_data_df[column].values.reshape(-1,  1))\n",
    "    return enc"
   ]
  },
  {
   "cell_type": "code",
   "execution_count": 87,
   "metadata": {},
   "outputs": [],
   "source": [
    "def oneHotCodedSparseMatrix():\n",
    "    return {\n",
    "        'author': getOneHotEncoding('Book-Author-Enc'),\n",
    "        'city': getOneHotEncoding('City-Enc'),\n",
    "        'state': getOneHotEncoding('State-Enc')\n",
    "    }\n"
   ]
  },
  {
   "cell_type": "code",
   "execution_count": 93,
   "metadata": {},
   "outputs": [],
   "source": [
    "def embeddingsInputLen():\n",
    "    ohcsm = oneHotCodedSparseMatrix()\n",
    "    return {\n",
    "        'author': len(ohcsm['author'].categories_[0]),\n",
    "        'city': len(ohcsm['city'].categories_[0]),\n",
    "        'state': len(ohcsm['state'].categories_[0])\n",
    "    }"
   ]
  },
  {
   "cell_type": "code",
   "execution_count": 94,
   "metadata": {},
   "outputs": [
    {
     "data": {
      "text/plain": [
       "{'author': 101590, 'city': 7574, 'state': 1065}"
      ]
     },
     "execution_count": 94,
     "metadata": {},
     "output_type": "execute_result"
    }
   ],
   "source": [
    "embeddingsLength = embeddingsInputLen()\n",
    "embeddingsLength"
   ]
  },
  {
   "cell_type": "code",
   "execution_count": 169,
   "metadata": {
    "collapsed": true
   },
   "outputs": [],
   "source": [
    "RUN_NAME = calendar.timegm(time.gmtime())\n",
    "\n",
    "learning_rate = 0.001\n",
    "training_epochs = 30\n",
    "\n",
    "number_of_inputs = 5\n",
    "number_of_outputs = 1\n",
    "\n",
    "layer_1_nodes = 5\n",
    "layer_2_nodes = 25\n",
    "layer_3_nodes = 12"
   ]
  },
  {
   "cell_type": "markdown",
   "metadata": {},
   "source": [
    "### Reset Graph"
   ]
  },
  {
   "cell_type": "code",
   "execution_count": 170,
   "metadata": {},
   "outputs": [],
   "source": [
    "tf.reset_default_graph()"
   ]
  },
  {
   "cell_type": "markdown",
   "metadata": {},
   "source": [
    "### Iterator"
   ]
  },
  {
   "cell_type": "code",
   "execution_count": 43,
   "metadata": {},
   "outputs": [],
   "source": [
    "def getTfDataset(X, y):\n",
    "    dataset = tf.data.Dataset.from_tensor_slices(\n",
    "                (\n",
    "                    tf.cast(X, tf.float64),\n",
    "                    tf.cast(y, tf.float64)\n",
    "                )\n",
    "            )        \n",
    "    return dataset"
   ]
  },
  {
   "cell_type": "code",
   "execution_count": 172,
   "metadata": {},
   "outputs": [],
   "source": [
    "batchSize = 128\n",
    "placeholder_X = tf.placeholder(tf.float64, shape=(None, 6), name='placeholder_X')\n",
    "placeholder_y = tf.placeholder(tf.float64, shape=(None, 1), name='placeholder_y')\n",
    "batchedDataset = getTfDataset(placeholder_X, placeholder_y).batch(batchSize)\n",
    "iterator = batchedDataset.make_initializable_iterator()\n",
    "data_X, data_y = iterator.get_next()"
   ]
  },
  {
   "cell_type": "markdown",
   "metadata": {},
   "source": [
    "### Input Layer: Age, City, State, Author, Year of Publish"
   ]
  },
  {
   "cell_type": "code",
   "execution_count": 173,
   "metadata": {
    "collapsed": true
   },
   "outputs": [],
   "source": [
    "input_age = tf.reshape(data_X[:,0], [-1,1])\n",
    "input_year = tf.reshape(data_X[:,1], [-1,1])\n",
    "input_publisher = tf.reshape(data_X[:,2], [-1,1])\n",
    "input_author = tf.reshape(data_X[:,3], [-1,1])\n",
    "input_city = tf.reshape(data_X[:,4], [-1,1])\n",
    "input_state = tf.reshape(data_X[:,5], [-1,1])\n",
    "\n",
    "actual_rating = tf.reshape(data_y, [-1,1])"
   ]
  },
  {
   "cell_type": "markdown",
   "metadata": {},
   "source": [
    "### Embeddings: City, State, Author"
   ]
  },
  {
   "cell_type": "code",
   "execution_count": 174,
   "metadata": {},
   "outputs": [],
   "source": [
    "weights_city = tf.get_variable(name=\"city_emb_wt\", shape=[embeddingsLength['city'], 2], initializer=tf.contrib.layers.xavier_initializer(), dtype=tf.float64)\n",
    "encoded_city_ohv = tf.one_hot(tf.cast(input_city, tf.int64), embeddingsLength['city'])\n",
    "encoded_city = tf.reshape(encoded_city_ohv,(-1, embeddingsLength['city']))\n",
    "embedding_city_output = tf.nn.relu(tf.matmul(tf.cast(encoded_city, tf.float64), weights_city))"
   ]
  },
  {
   "cell_type": "code",
   "execution_count": 175,
   "metadata": {
    "collapsed": true
   },
   "outputs": [],
   "source": [
    "weights_state = tf.get_variable(name=\"state_emb_wt\", shape=[embeddingsLength['state'], 2], initializer=tf.contrib.layers.xavier_initializer(), dtype=tf.float64)\n",
    "encoded_state_ohv = tf.one_hot(tf.cast(input_state, tf.int64), embeddingsLength['state'])\n",
    "encoded_state = tf.reshape(encoded_state_ohv,(-1, embeddingsLength['state']))\n",
    "embedding_state_output = tf.nn.relu(tf.matmul(tf.cast(encoded_state, tf.float64), weights_state))"
   ]
  },
  {
   "cell_type": "code",
   "execution_count": 176,
   "metadata": {
    "collapsed": true
   },
   "outputs": [],
   "source": [
    "weights_author = tf.get_variable(name=\"author_emb_wt\", shape=[embeddingsLength['author'], 2], initializer=tf.contrib.layers.xavier_initializer(), dtype=tf.float64)\n",
    "encoded_author_ohv = tf.one_hot(tf.cast(input_author, tf.int64), embeddingsLength['author'])\n",
    "encoded_author = tf.reshape(encoded_author_ohv,(-1, embeddingsLength['author']))\n",
    "embedding_author_output = tf.nn.relu(tf.matmul(tf.cast(encoded_author, tf.float64), weights_author))"
   ]
  },
  {
   "cell_type": "markdown",
   "metadata": {},
   "source": [
    "### Layer 1"
   ]
  },
  {
   "cell_type": "code",
   "execution_count": 177,
   "metadata": {
    "collapsed": true
   },
   "outputs": [],
   "source": [
    "input_x = tf.concat([input_age, embedding_city_output, embedding_state_output, embedding_author_output, input_year], axis=1)\n",
    "weights_1 = tf.get_variable(name=\"weights1\", shape=[8, layer_1_nodes], initializer=tf.contrib.layers.xavier_initializer(), dtype=tf.float64)\n",
    "biases_1 = tf.get_variable(name=\"biases1\", shape=[layer_1_nodes], initializer=tf.zeros_initializer(), dtype=tf.float64)\n",
    "layer_1_output = tf.nn.relu(tf.matmul(input_x, weights_1) + biases_1)"
   ]
  },
  {
   "cell_type": "markdown",
   "metadata": {},
   "source": [
    "### Layer 2"
   ]
  },
  {
   "cell_type": "code",
   "execution_count": 178,
   "metadata": {
    "collapsed": true
   },
   "outputs": [],
   "source": [
    "weights_2 = tf.get_variable(name=\"weights2\", shape=[layer_1_nodes, layer_2_nodes], initializer=tf.contrib.layers.xavier_initializer(), dtype=tf.float64)\n",
    "biases_2 = tf.get_variable(name=\"biases2\", shape=[layer_2_nodes], initializer=tf.zeros_initializer(), dtype=tf.float64)\n",
    "layer_2_output = tf.nn.relu(tf.matmul(layer_1_output, weights_2) + biases_2)"
   ]
  },
  {
   "cell_type": "markdown",
   "metadata": {},
   "source": [
    "### Layer 3"
   ]
  },
  {
   "cell_type": "code",
   "execution_count": 179,
   "metadata": {
    "collapsed": true
   },
   "outputs": [],
   "source": [
    "weights_3 = tf.get_variable(name=\"weights3\", shape=[layer_2_nodes, layer_3_nodes], initializer=tf.contrib.layers.xavier_initializer(), dtype=tf.float64)\n",
    "biases_3 = tf.get_variable(name=\"biases3\", shape=[layer_3_nodes], initializer=tf.zeros_initializer(), dtype=tf.float64)\n",
    "layer_3_output = tf.nn.relu(tf.matmul(layer_2_output, weights_3) + biases_3)"
   ]
  },
  {
   "cell_type": "markdown",
   "metadata": {},
   "source": [
    "### Output"
   ]
  },
  {
   "cell_type": "code",
   "execution_count": 180,
   "metadata": {},
   "outputs": [],
   "source": [
    "weights_o = tf.get_variable(\"weights4\", shape=[layer_3_nodes, number_of_outputs], initializer=tf.contrib.layers.xavier_initializer(), dtype=tf.float64)\n",
    "biases_o = tf.get_variable(name=\"biases4\", shape=[number_of_outputs], initializer=tf.zeros_initializer(), dtype=tf.float64)\n",
    "prediction = tf.sigmoid(tf.matmul(layer_3_output, weights_o) + biases_o) * 10"
   ]
  },
  {
   "cell_type": "markdown",
   "metadata": {},
   "source": [
    "### Cost"
   ]
  },
  {
   "cell_type": "code",
   "execution_count": 181,
   "metadata": {
    "collapsed": true
   },
   "outputs": [],
   "source": [
    "cost = tf.reduce_mean(tf.squared_difference(prediction, actual_rating))"
   ]
  },
  {
   "cell_type": "markdown",
   "metadata": {},
   "source": [
    "### Optimizer"
   ]
  },
  {
   "cell_type": "code",
   "execution_count": 182,
   "metadata": {
    "collapsed": true
   },
   "outputs": [],
   "source": [
    "optimizer = tf.train.AdamOptimizer(learning_rate).minimize(cost)"
   ]
  },
  {
   "cell_type": "markdown",
   "metadata": {},
   "source": [
    "### Logging"
   ]
  },
  {
   "cell_type": "code",
   "execution_count": 183,
   "metadata": {
    "collapsed": true
   },
   "outputs": [],
   "source": [
    "with tf.variable_scope('logging'):\n",
    "    tf.summary.scalar('current_cost', cost)\n",
    "    summary = tf.summary.merge_all()"
   ]
  },
  {
   "cell_type": "code",
   "execution_count": 184,
   "metadata": {
    "collapsed": true
   },
   "outputs": [],
   "source": [
    "def optimizeModel(session, X, y):\n",
    "    session.run(iterator.initializer, feed_dict={placeholder_X:X, placeholder_y:y})\n",
    "    idx = 0;\n",
    "    while True:\n",
    "            try:\n",
    "                session.run(optimizer)\n",
    "                idx = idx + 1\n",
    "            except tf.errors.OutOfRangeError:\n",
    "                break\n",
    "    return idx"
   ]
  },
  {
   "cell_type": "code",
   "execution_count": 185,
   "metadata": {},
   "outputs": [],
   "source": [
    "def getModelCost(session, X, y):\n",
    "    session.run(iterator.initializer, feed_dict={placeholder_X:X, placeholder_y:y})\n",
    "    batchWiseCost = []\n",
    "    while True:\n",
    "        try:\n",
    "            testCost = session.run(cost)\n",
    "            batchWiseCost.append(testCost)\n",
    "        except tf.errors.OutOfRangeError:\n",
    "            break\n",
    "    return np.array(batchWiseCost).mean()"
   ]
  },
  {
   "cell_type": "code",
   "execution_count": 187,
   "metadata": {
    "collapsed": true
   },
   "outputs": [],
   "source": [
    "def batchInformation(dataset):\n",
    "    records = dataset.shape[0]\n",
    "    division = records / batchSize\n",
    "    totalBatch = math.ceil(division)\n",
    "    fullBatch = math.floor(division)\n",
    "    remainderBatch = totalBatch - fullBatch\n",
    "    remainderBatchSize = records % batchSize\n",
    "    return \"\\n\\tRecords: {}\\n\\tTotal Batch: {}\\n\\tFull Batch: {}\\n\\tFull Batch Size: {}\\n\\tRemainder Batch: {}\\n\\tRemainder Batch Size: {}\".format(records, totalBatch, fullBatch, batchSize, remainderBatch, remainderBatchSize)"
   ]
  },
  {
   "cell_type": "code",
   "execution_count": 198,
   "metadata": {},
   "outputs": [
    {
     "name": "stdout",
     "output_type": "stream",
     "text": [
      "Train \n",
      "\tRecords: 670\n",
      "\tTotal Batch: 6\n",
      "\tFull Batch: 5\n",
      "\tFull Batch Size: 128\n",
      "\tRemainder Batch: 1\n",
      "\tRemainder Batch Size: 30 \n",
      " Test \n",
      "\tRecords: 330\n",
      "\tTotal Batch: 3\n",
      "\tFull Batch: 2\n",
      "\tFull Batch Size: 128\n",
      "\tRemainder Batch: 1\n",
      "\tRemainder Batch Size: 74 \n",
      "\n",
      "Epoch:0 Total Batch Optimization: 6 Training Cost: 17.73910639655723 Testing Cost: 19.751402908934406\n",
      "Epoch:1 Total Batch Optimization: 6 Training Cost: 17.72554689195397 Testing Cost: 19.7269591172178\n",
      "Epoch:2 Total Batch Optimization: 6 Training Cost: 17.7183540724301 Testing Cost: 19.711891703848547\n",
      "Epoch:3 Total Batch Optimization: 6 Training Cost: 17.71476071494238 Testing Cost: 19.70314749045043\n",
      "Epoch:4 Total Batch Optimization: 6 Training Cost: 17.71305671295324 Testing Cost: 19.698183705954293\n",
      "Epoch:5 Total Batch Optimization: 6 Training Cost: 17.711955898221273 Testing Cost: 19.695393963698095\n",
      "Epoch:6 Total Batch Optimization: 6 Training Cost: 17.7110943589875 Testing Cost: 19.69376957081791\n",
      "Epoch:7 Total Batch Optimization: 6 Training Cost: 17.71048363456386 Testing Cost: 19.692743312323973\n",
      "Epoch:8 Total Batch Optimization: 6 Training Cost: 17.70994823851282 Testing Cost: 19.69200122183279\n",
      "Epoch:9 Total Batch Optimization: 6 Training Cost: 17.709453580328496 Testing Cost: 19.691459107875545\n",
      "CPU times: user 1min 21s, sys: 10.7 s, total: 1min 32s\n",
      "Wall time: 25.4 s\n"
     ]
    }
   ],
   "source": [
    "%%time\n",
    "print('Train', batchInformation(X_train), '\\n', 'Test', batchInformation(X_test), '\\n')\n",
    "with tf.Session() as session:\n",
    "    # Run the global variable initializer to initialize all variables and layers of the neural network\n",
    "    session.run(tf.global_variables_initializer())\n",
    "    # Run the optimizer over and over to train the network.\n",
    "    # One epoch is one full run through the training data set.\n",
    "    epochWiseTrainCost = []\n",
    "    epochWiseTestCost = []\n",
    "    for epoch in range(10):\n",
    "        batchCount = optimizeModel(session, X_train, y_train)\n",
    "        epochWiseTrainCost.append(getModelCost(session, X_train, y_train))\n",
    "        epochWiseTestCost.append(getModelCost(session, X_test, y_test))\n",
    "        print(\"Epoch:{} Total Batch Optimization: {} Training Cost: {} Testing Cost: {}\".format(epoch, batchCount, epochWiseTrainCost[-1], epochWiseTestCost[-1]))\n",
    "    \n",
    "    "
   ]
  },
  {
   "cell_type": "markdown",
   "metadata": {},
   "source": [
    "### Analysis"
   ]
  },
  {
   "cell_type": "code",
   "execution_count": 199,
   "metadata": {
    "scrolled": true
   },
   "outputs": [
    {
     "data": {
      "image/png": "[encoded data removed]",
      "text/plain": [
       "<Figure size 432x288 with 1 Axes>"
      ]
     },
     "metadata": {},
     "output_type": "display_data"
    }
   ],
   "source": [
    "plt.plot(epochWiseTrainCost, c='b', label='Training')\n",
    "plt.plot(epochWiseTestCost, c='g', label='Test')\n",
    "plt.legend(loc='best')\n",
    "plt.xlabel('Epochs')\n",
    "plt.ylabel('Cost')\n",
    "plt.title('Learning Curve')\n",
    "plt.show()\n",
    "        "
   ]
  },
  {
   "cell_type": "markdown",
   "metadata": {},
   "source": [
    "### Session Initialization"
   ]
  },
  {
   "cell_type": "code",
   "execution_count": 189,
   "metadata": {
    "collapsed": true
   },
   "outputs": [],
   "source": [
    "# ! tensorboard --logdir \"./logs\""
   ]
  },
  {
   "cell_type": "markdown",
   "metadata": {},
   "source": [
    "### Layer Class"
   ]
  },
  {
   "cell_type": "code",
   "execution_count": 19,
   "metadata": {},
   "outputs": [],
   "source": [
    "from tensorflow.keras import layers"
   ]
  },
  {
   "cell_type": "code",
   "execution_count": 123,
   "metadata": {},
   "outputs": [],
   "source": [
    "class Linear(layers.Layer):\n",
    "    def __init__(self, units):\n",
    "        super(Linear, self).__init__()\n",
    "        self.units = units\n",
    "        b_init = tf.zeros_initializer()\n",
    "        self.b = tf.Variable(initial_value=b_init(shape=(self.units,), dtype=tf.float32), trainable=True)\n",
    "    def build(self, input_shape):\n",
    "        w_init = tf.random_normal_initializer()\n",
    "        self.w = tf.Variable(initial_value=w_init(shape=(input_shape[-1], self.units), dtype=tf.float32), trainable=True)\n",
    "    def call(self, inputs):\n",
    "        inputs = tf.cast(inputs, tf.float32)\n",
    "        return tf.nn.relu(tf.matmul(inputs, self.w) + self.b)"
   ]
  },
  {
   "cell_type": "code",
   "execution_count": 124,
   "metadata": {},
   "outputs": [],
   "source": [
    "class Embeddings(layers.Layer):\n",
    "    def __init__(self, units=2):\n",
    "        super(Embeddings, self).__init__()\n",
    "        self.units = units    \n",
    "    def call(self, inputs, depth):\n",
    "        w_init = tf.random_normal_initializer()\n",
    "        self.w = tf.Variable(initial_value=w_init(shape=(depth, self.units), dtype=tf.float32), trainable=True)\n",
    "        ohv = tf.one_hot(tf.cast(inputs, tf.int64), depth=depth)\n",
    "        ohv = tf.reshape(ohv,(-1,depth))\n",
    "        return tf.nn.relu(tf.matmul(tf.cast(ohv, tf.float32), self.w))"
   ]
  },
  {
   "cell_type": "code",
   "execution_count": 121,
   "metadata": {},
   "outputs": [],
   "source": [
    "class breTfModel(tf.keras.Model):\n",
    "\n",
    "    def __init__(self):\n",
    "        super(breTfModel, self).__init__()\n",
    "        RUN_NAME = calendar.timegm(time.gmtime())\n",
    "\n",
    "        self.input_dim = 8\n",
    "        self.output_dim = 1\n",
    "\n",
    "        self.layer_1_nodes = 5\n",
    "        self.layer_2_nodes = 25\n",
    "        self.layer_3_nodes = 12\n",
    "        \n",
    "        self.embedding_layer_1 = Embeddings()\n",
    "        self.embedding_layer_2 = Embeddings()\n",
    "        self.embedding_layer_3 = Embeddings()\n",
    "        \n",
    "        self.layer_1 = Linear(self.layer_1_nodes)\n",
    "        self.layer_2 = Linear(self.layer_2_nodes)\n",
    "        self.layer_3 = Linear(self.layer_3_nodes)\n",
    "        \n",
    "        self.output_layer = Linear(self.output_dim)\n",
    "\n",
    "    def call(self, X, depth):\n",
    "        age = tf.reshape(X[:,0], [-1,1])\n",
    "        year = tf.reshape(X[:,1], [-1,1])\n",
    "        publisher = tf.reshape(X[:,2], [-1,1])\n",
    "        author = tf.reshape(X[:,3], [-1,1])\n",
    "        city = tf.reshape(X[:,4], [-1,1])\n",
    "        state = tf.reshape(X[:,5], [-1,1])\n",
    "\n",
    "        city_embeddings = self.embedding_layer_1(city, depth['city'])\n",
    "        state_embeddings = self.embedding_layer_2(state, depth['state'])\n",
    "        author_embeddings = self.embedding_layer_3(author, depth['author'])\n",
    "        \n",
    "        inputs = tf.concat([age, city_embeddings, state_embeddings, author_embeddings, year], axis=1)\n",
    "        layer_1_output = self.layer_1(inputs)\n",
    "        layer_2_output = self.layer_2(layer_1_output)\n",
    "        layer_3_output = self.layer_3(layer_2_output)\n",
    "        prediction = self.output_layer(layer_3_output)\n",
    "        return prediction"
   ]
  },
  {
   "cell_type": "markdown",
   "metadata": {},
   "source": [
    "### Custom Loop"
   ]
  },
  {
   "cell_type": "code",
   "execution_count": 125,
   "metadata": {},
   "outputs": [
    {
     "name": "stdout",
     "output_type": "stream",
     "text": [
      "Start of epoch 0\n",
      "Training loss (for one batch) after processing 1 batch: 13.42261791229248\n",
      "Training loss (for one batch) after processing 6 batches: 18.552818298339844\n",
      "Training loss (for one batch) after processing 11 batches: 9.655044555664062\n",
      "Start of epoch 1\n",
      "Training loss (for one batch) after processing 1 batch: 18.468345642089844\n",
      "Training loss (for one batch) after processing 6 batches: 19.7022705078125\n",
      "Training loss (for one batch) after processing 11 batches: 9.663543701171875\n",
      "Start of epoch 2\n",
      "Training loss (for one batch) after processing 1 batch: 14.285189628601074\n",
      "Training loss (for one batch) after processing 6 batches: 11.524672508239746\n",
      "Training loss (for one batch) after processing 11 batches: 11.361811637878418\n"
     ]
    },
    {
     "data": {
      "image/png": "[encoded data removed]",
      "text/plain": [
       "<Figure size 432x288 with 1 Axes>"
      ]
     },
     "metadata": {
      "needs_background": "light"
     },
     "output_type": "display_data"
    }
   ],
   "source": [
    "epochs = 3\n",
    "\n",
    "model = breTfModel()\n",
    "\n",
    "optimizer = tf.keras.optimizers.Adam(learning_rate=1e-3)\n",
    "mse_loss_fn = tf.keras.losses.MeanSquaredError()\n",
    "\n",
    "loss_metric = tf.keras.metrics.Mean()\n",
    "dataset = tf.data.Dataset.from_tensor_slices((tf.cast(X_train, tf.float32),tf.cast(y_train, tf.float32)))\n",
    "train_dataset = dataset.shuffle(buffer_size=1024).batch(64)\n",
    "loss_value_set = []\n",
    "depth = embeddingsInputLen()\n",
    "for epoch in range(epochs):\n",
    "    print('Start of epoch %d' % (epoch,))\n",
    "    batchWiseTrainCost = []\n",
    "    for step, batch in enumerate(train_dataset):\n",
    "        X_batch_train = batch[0]\n",
    "        y_batch_train = batch[1]\n",
    "        with tf.GradientTape() as tape:\n",
    "            prediction = model(X_batch_train, depth)\n",
    "            loss_value = mse_loss_fn(y_batch_train, prediction)\n",
    "        # Use the gradient tape to automatically retrieve\n",
    "        # the gradients of the trainable variables with respect to the loss.\n",
    "        grads = tape.gradient(loss_value, model.trainable_weights)\n",
    "        optimizer.apply_gradients(zip(grads, model.trainable_weights))\n",
    "        # Log every 5th batch.\n",
    "        if step % 5 == 0:\n",
    "            loss_value_set.append(loss_value)\n",
    "            print('Training loss (for one batch) after processing %s batch%s: %s' % (step + 1, 'es' if step > 0 else '', float(loss_value)))\n",
    "pltLearningCurve(loss_value_set, 'Training', 'g')"
   ]
  },
  {
   "cell_type": "code",
   "execution_count": 105,
   "metadata": {},
   "outputs": [],
   "source": [
    "def pltLearningCurve(cost, label, color):\n",
    "    plt.plot(cost, c=color, label=label)\n",
    "    plt.legend(loc='best')\n",
    "    plt.ylabel('Cost')\n",
    "    plt.title('Learning Curve')\n",
    "    plt.show()"
   ]
  }
 ],
 "metadata": {
  "kernelspec": {
   "display_name": "Python 3",
   "language": "python",
   "name": "python3"
  },
  "language_info": {
   "codemirror_mode": {
    "name": "ipython",
    "version": 3
   },
   "file_extension": ".py",
   "mimetype": "text/x-python",
   "name": "python",
   "nbconvert_exporter": "python",
   "pygments_lexer": "ipython3",
   "version": "3.7.7"
  }
 },
 "nbformat": 4,
 "nbformat_minor": 2
}
