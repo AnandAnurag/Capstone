{
 "cells": [
  {
   "cell_type": "code",
   "execution_count": 120,
   "metadata": {},
   "outputs": [],
   "source": [
    "import tensorflow as tf\n",
    "import pandas as pd\n",
    "import calendar;\n",
    "import time;"
   ]
  },
  {
   "cell_type": "code",
   "execution_count": 165,
   "metadata": {},
   "outputs": [],
   "source": [
    "from sklearn.model_selection import train_test_split\n",
    "from sklearn.preprocessing import LabelEncoder, Imputer"
   ]
  },
  {
   "cell_type": "code",
   "execution_count": 123,
   "metadata": {
    "collapsed": true
   },
   "outputs": [],
   "source": [
    "books = pd.read_csv(r\"../Dataset/BX-Books.csv\", sep=\";\", encoding='latin1')\n",
    "ratings = pd.read_csv(r\"../Dataset/BX-Book-Ratings.csv\", sep=\";\",\n",
    "                      encoding='latin1')\n",
    "users = pd.read_csv(r\"../Dataset/BX-Users.csv\", sep=\";\",\n",
    "                    encoding='latin1')"
   ]
  },
  {
   "cell_type": "code",
   "execution_count": 124,
   "metadata": {
    "collapsed": true
   },
   "outputs": [],
   "source": [
    "full_data_df = ratings.merge(books,on='ISBN').merge(users,on='User-ID')"
   ]
  },
  {
   "cell_type": "code",
   "execution_count": 125,
   "metadata": {},
   "outputs": [
    {
     "data": {
      "text/html": [
       "<div>\n",
       "<style>\n",
       "    .dataframe thead tr:only-child th {\n",
       "        text-align: right;\n",
       "    }\n",
       "\n",
       "    .dataframe thead th {\n",
       "        text-align: left;\n",
       "    }\n",
       "\n",
       "    .dataframe tbody tr th {\n",
       "        vertical-align: top;\n",
       "    }\n",
       "</style>\n",
       "<table border=\"1\" class=\"dataframe\">\n",
       "  <thead>\n",
       "    <tr style=\"text-align: right;\">\n",
       "      <th></th>\n",
       "      <th>User-ID</th>\n",
       "      <th>ISBN</th>\n",
       "      <th>Book-Rating</th>\n",
       "      <th>Book-Title</th>\n",
       "      <th>Book-Author</th>\n",
       "      <th>Year-Of-Publication</th>\n",
       "      <th>Publisher</th>\n",
       "      <th>Image-URL-S</th>\n",
       "      <th>Image-URL-M</th>\n",
       "      <th>Image-URL-L</th>\n",
       "      <th>Location</th>\n",
       "      <th>Age</th>\n",
       "    </tr>\n",
       "  </thead>\n",
       "  <tbody>\n",
       "    <tr>\n",
       "      <th>0</th>\n",
       "      <td>276725</td>\n",
       "      <td>034545104X</td>\n",
       "      <td>0</td>\n",
       "      <td>Flesh Tones: A Novel</td>\n",
       "      <td>M. J. Rose</td>\n",
       "      <td>2002</td>\n",
       "      <td>Ballantine Books</td>\n",
       "      <td>http://images.amazon.com/images/P/034545104X.0...</td>\n",
       "      <td>http://images.amazon.com/images/P/034545104X.0...</td>\n",
       "      <td>http://images.amazon.com/images/P/034545104X.0...</td>\n",
       "      <td>tyler, texas, usa</td>\n",
       "      <td>NaN</td>\n",
       "    </tr>\n",
       "    <tr>\n",
       "      <th>1</th>\n",
       "      <td>2313</td>\n",
       "      <td>034545104X</td>\n",
       "      <td>5</td>\n",
       "      <td>Flesh Tones: A Novel</td>\n",
       "      <td>M. J. Rose</td>\n",
       "      <td>2002</td>\n",
       "      <td>Ballantine Books</td>\n",
       "      <td>http://images.amazon.com/images/P/034545104X.0...</td>\n",
       "      <td>http://images.amazon.com/images/P/034545104X.0...</td>\n",
       "      <td>http://images.amazon.com/images/P/034545104X.0...</td>\n",
       "      <td>cincinnati, ohio, usa</td>\n",
       "      <td>23.0</td>\n",
       "    </tr>\n",
       "    <tr>\n",
       "      <th>2</th>\n",
       "      <td>2313</td>\n",
       "      <td>0812533550</td>\n",
       "      <td>9</td>\n",
       "      <td>Ender's Game (Ender Wiggins Saga (Paperback))</td>\n",
       "      <td>Orson Scott Card</td>\n",
       "      <td>1986</td>\n",
       "      <td>Tor Books</td>\n",
       "      <td>http://images.amazon.com/images/P/0812533550.0...</td>\n",
       "      <td>http://images.amazon.com/images/P/0812533550.0...</td>\n",
       "      <td>http://images.amazon.com/images/P/0812533550.0...</td>\n",
       "      <td>cincinnati, ohio, usa</td>\n",
       "      <td>23.0</td>\n",
       "    </tr>\n",
       "    <tr>\n",
       "      <th>3</th>\n",
       "      <td>2313</td>\n",
       "      <td>0679745580</td>\n",
       "      <td>8</td>\n",
       "      <td>In Cold Blood (Vintage International)</td>\n",
       "      <td>TRUMAN CAPOTE</td>\n",
       "      <td>1994</td>\n",
       "      <td>Vintage</td>\n",
       "      <td>http://images.amazon.com/images/P/0679745580.0...</td>\n",
       "      <td>http://images.amazon.com/images/P/0679745580.0...</td>\n",
       "      <td>http://images.amazon.com/images/P/0679745580.0...</td>\n",
       "      <td>cincinnati, ohio, usa</td>\n",
       "      <td>23.0</td>\n",
       "    </tr>\n",
       "    <tr>\n",
       "      <th>4</th>\n",
       "      <td>2313</td>\n",
       "      <td>0060173289</td>\n",
       "      <td>9</td>\n",
       "      <td>Divine Secrets of the Ya-Ya Sisterhood : A Novel</td>\n",
       "      <td>Rebecca Wells</td>\n",
       "      <td>1996</td>\n",
       "      <td>HarperCollins</td>\n",
       "      <td>http://images.amazon.com/images/P/0060173289.0...</td>\n",
       "      <td>http://images.amazon.com/images/P/0060173289.0...</td>\n",
       "      <td>http://images.amazon.com/images/P/0060173289.0...</td>\n",
       "      <td>cincinnati, ohio, usa</td>\n",
       "      <td>23.0</td>\n",
       "    </tr>\n",
       "  </tbody>\n",
       "</table>\n",
       "</div>"
      ],
      "text/plain": [
       "   User-ID        ISBN  Book-Rating  \\\n",
       "0   276725  034545104X            0   \n",
       "1     2313  034545104X            5   \n",
       "2     2313  0812533550            9   \n",
       "3     2313  0679745580            8   \n",
       "4     2313  0060173289            9   \n",
       "\n",
       "                                         Book-Title       Book-Author  \\\n",
       "0                              Flesh Tones: A Novel        M. J. Rose   \n",
       "1                              Flesh Tones: A Novel        M. J. Rose   \n",
       "2     Ender's Game (Ender Wiggins Saga (Paperback))  Orson Scott Card   \n",
       "3             In Cold Blood (Vintage International)     TRUMAN CAPOTE   \n",
       "4  Divine Secrets of the Ya-Ya Sisterhood : A Novel     Rebecca Wells   \n",
       "\n",
       "   Year-Of-Publication         Publisher  \\\n",
       "0                 2002  Ballantine Books   \n",
       "1                 2002  Ballantine Books   \n",
       "2                 1986         Tor Books   \n",
       "3                 1994           Vintage   \n",
       "4                 1996     HarperCollins   \n",
       "\n",
       "                                         Image-URL-S  \\\n",
       "0  http://images.amazon.com/images/P/034545104X.0...   \n",
       "1  http://images.amazon.com/images/P/034545104X.0...   \n",
       "2  http://images.amazon.com/images/P/0812533550.0...   \n",
       "3  http://images.amazon.com/images/P/0679745580.0...   \n",
       "4  http://images.amazon.com/images/P/0060173289.0...   \n",
       "\n",
       "                                         Image-URL-M  \\\n",
       "0  http://images.amazon.com/images/P/034545104X.0...   \n",
       "1  http://images.amazon.com/images/P/034545104X.0...   \n",
       "2  http://images.amazon.com/images/P/0812533550.0...   \n",
       "3  http://images.amazon.com/images/P/0679745580.0...   \n",
       "4  http://images.amazon.com/images/P/0060173289.0...   \n",
       "\n",
       "                                         Image-URL-L               Location  \\\n",
       "0  http://images.amazon.com/images/P/034545104X.0...      tyler, texas, usa   \n",
       "1  http://images.amazon.com/images/P/034545104X.0...  cincinnati, ohio, usa   \n",
       "2  http://images.amazon.com/images/P/0812533550.0...  cincinnati, ohio, usa   \n",
       "3  http://images.amazon.com/images/P/0679745580.0...  cincinnati, ohio, usa   \n",
       "4  http://images.amazon.com/images/P/0060173289.0...  cincinnati, ohio, usa   \n",
       "\n",
       "    Age  \n",
       "0   NaN  \n",
       "1  23.0  \n",
       "2  23.0  \n",
       "3  23.0  \n",
       "4  23.0  "
      ]
     },
     "execution_count": 125,
     "metadata": {},
     "output_type": "execute_result"
    }
   ],
   "source": [
    "full_data_df.head()"
   ]
  },
  {
   "cell_type": "code",
   "execution_count": 173,
   "metadata": {},
   "outputs": [
    {
     "data": {
      "text/plain": [
       "Index(['User-ID', 'ISBN', 'Book-Rating', 'Book-Title', 'Book-Author',\n",
       "       'Year-Of-Publication', 'Publisher', 'Image-URL-S', 'Image-URL-M',\n",
       "       'Image-URL-L', 'Location', 'Age'],\n",
       "      dtype='object')"
      ]
     },
     "execution_count": 173,
     "metadata": {},
     "output_type": "execute_result"
    }
   ],
   "source": [
    "full_data_df.columns"
   ]
  },
  {
   "cell_type": "code",
   "execution_count": 174,
   "metadata": {},
   "outputs": [
    {
     "data": {
      "text/html": [
       "<div>\n",
       "<style>\n",
       "    .dataframe thead tr:only-child th {\n",
       "        text-align: right;\n",
       "    }\n",
       "\n",
       "    .dataframe thead th {\n",
       "        text-align: left;\n",
       "    }\n",
       "\n",
       "    .dataframe tbody tr th {\n",
       "        vertical-align: top;\n",
       "    }\n",
       "</style>\n",
       "<table border=\"1\" class=\"dataframe\">\n",
       "  <thead>\n",
       "    <tr style=\"text-align: right;\">\n",
       "      <th></th>\n",
       "      <th>Location</th>\n",
       "      <th>Age</th>\n",
       "      <th>Book-Author</th>\n",
       "      <th>Year-Of-Publication</th>\n",
       "      <th>Book-Rating</th>\n",
       "    </tr>\n",
       "  </thead>\n",
       "  <tbody>\n",
       "    <tr>\n",
       "      <th>0</th>\n",
       "      <td>tyler, texas, usa</td>\n",
       "      <td>37.397719</td>\n",
       "      <td>M. J. Rose</td>\n",
       "      <td>2002</td>\n",
       "      <td>0</td>\n",
       "    </tr>\n",
       "    <tr>\n",
       "      <th>1</th>\n",
       "      <td>cincinnati, ohio, usa</td>\n",
       "      <td>23.000000</td>\n",
       "      <td>M. J. Rose</td>\n",
       "      <td>2002</td>\n",
       "      <td>5</td>\n",
       "    </tr>\n",
       "    <tr>\n",
       "      <th>2</th>\n",
       "      <td>cincinnati, ohio, usa</td>\n",
       "      <td>23.000000</td>\n",
       "      <td>Orson Scott Card</td>\n",
       "      <td>1986</td>\n",
       "      <td>9</td>\n",
       "    </tr>\n",
       "    <tr>\n",
       "      <th>3</th>\n",
       "      <td>cincinnati, ohio, usa</td>\n",
       "      <td>23.000000</td>\n",
       "      <td>TRUMAN CAPOTE</td>\n",
       "      <td>1994</td>\n",
       "      <td>8</td>\n",
       "    </tr>\n",
       "    <tr>\n",
       "      <th>4</th>\n",
       "      <td>cincinnati, ohio, usa</td>\n",
       "      <td>23.000000</td>\n",
       "      <td>Rebecca Wells</td>\n",
       "      <td>1996</td>\n",
       "      <td>9</td>\n",
       "    </tr>\n",
       "  </tbody>\n",
       "</table>\n",
       "</div>"
      ],
      "text/plain": [
       "                Location        Age       Book-Author  Year-Of-Publication  \\\n",
       "0      tyler, texas, usa  37.397719        M. J. Rose                 2002   \n",
       "1  cincinnati, ohio, usa  23.000000        M. J. Rose                 2002   \n",
       "2  cincinnati, ohio, usa  23.000000  Orson Scott Card                 1986   \n",
       "3  cincinnati, ohio, usa  23.000000     TRUMAN CAPOTE                 1994   \n",
       "4  cincinnati, ohio, usa  23.000000     Rebecca Wells                 1996   \n",
       "\n",
       "   Book-Rating  \n",
       "0            0  \n",
       "1            5  \n",
       "2            9  \n",
       "3            8  \n",
       "4            9  "
      ]
     },
     "execution_count": 174,
     "metadata": {},
     "output_type": "execute_result"
    }
   ],
   "source": [
    "useful_data_df = full_data_df[['Location', 'Age', 'Book-Author', 'Year-Of-Publication', 'Book-Rating']]\n",
    "imp = Imputer(copy = False)\n",
    "imp.fit_transform(useful_data_df['Age'].values.reshape(-1, 1))\n",
    "useful_data_df.head()"
   ]
  },
  {
   "cell_type": "code",
   "execution_count": 175,
   "metadata": {},
   "outputs": [
    {
     "data": {
      "text/html": [
       "<div>\n",
       "<style>\n",
       "    .dataframe thead tr:only-child th {\n",
       "        text-align: right;\n",
       "    }\n",
       "\n",
       "    .dataframe thead th {\n",
       "        text-align: left;\n",
       "    }\n",
       "\n",
       "    .dataframe tbody tr th {\n",
       "        vertical-align: top;\n",
       "    }\n",
       "</style>\n",
       "<table border=\"1\" class=\"dataframe\">\n",
       "  <thead>\n",
       "    <tr style=\"text-align: right;\">\n",
       "      <th></th>\n",
       "      <th>Age</th>\n",
       "      <th>Book-Author</th>\n",
       "      <th>Year-Of-Publication</th>\n",
       "      <th>Book-Rating</th>\n",
       "      <th>City</th>\n",
       "      <th>State</th>\n",
       "    </tr>\n",
       "  </thead>\n",
       "  <tbody>\n",
       "    <tr>\n",
       "      <th>0</th>\n",
       "      <td>37.397719</td>\n",
       "      <td>M. J. Rose</td>\n",
       "      <td>2002</td>\n",
       "      <td>0</td>\n",
       "      <td>tyler</td>\n",
       "      <td>texas</td>\n",
       "    </tr>\n",
       "    <tr>\n",
       "      <th>1</th>\n",
       "      <td>23.000000</td>\n",
       "      <td>M. J. Rose</td>\n",
       "      <td>2002</td>\n",
       "      <td>5</td>\n",
       "      <td>cincinnati</td>\n",
       "      <td>ohio</td>\n",
       "    </tr>\n",
       "    <tr>\n",
       "      <th>2</th>\n",
       "      <td>23.000000</td>\n",
       "      <td>Orson Scott Card</td>\n",
       "      <td>1986</td>\n",
       "      <td>9</td>\n",
       "      <td>cincinnati</td>\n",
       "      <td>ohio</td>\n",
       "    </tr>\n",
       "    <tr>\n",
       "      <th>3</th>\n",
       "      <td>23.000000</td>\n",
       "      <td>TRUMAN CAPOTE</td>\n",
       "      <td>1994</td>\n",
       "      <td>8</td>\n",
       "      <td>cincinnati</td>\n",
       "      <td>ohio</td>\n",
       "    </tr>\n",
       "    <tr>\n",
       "      <th>4</th>\n",
       "      <td>23.000000</td>\n",
       "      <td>Rebecca Wells</td>\n",
       "      <td>1996</td>\n",
       "      <td>9</td>\n",
       "      <td>cincinnati</td>\n",
       "      <td>ohio</td>\n",
       "    </tr>\n",
       "  </tbody>\n",
       "</table>\n",
       "</div>"
      ],
      "text/plain": [
       "         Age       Book-Author  Year-Of-Publication  Book-Rating        City  \\\n",
       "0  37.397719        M. J. Rose                 2002            0       tyler   \n",
       "1  23.000000        M. J. Rose                 2002            5  cincinnati   \n",
       "2  23.000000  Orson Scott Card                 1986            9  cincinnati   \n",
       "3  23.000000     TRUMAN CAPOTE                 1994            8  cincinnati   \n",
       "4  23.000000     Rebecca Wells                 1996            9  cincinnati   \n",
       "\n",
       "   State  \n",
       "0  texas  \n",
       "1   ohio  \n",
       "2   ohio  \n",
       "3   ohio  \n",
       "4   ohio  "
      ]
     },
     "execution_count": 175,
     "metadata": {},
     "output_type": "execute_result"
    }
   ],
   "source": [
    "loc_df = pd.DataFrame([ x.split(', ', 2)[0:2] for x in useful_data_df['Location'].tolist() ])\n",
    "loc_df.columns = ['City', 'State']\n",
    "useful_data_df = pd.concat([useful_data_df, loc_df], axis=1).drop('Location', axis=1)\n",
    "useful_data_df.head()"
   ]
  },
  {
   "cell_type": "code",
   "execution_count": 176,
   "metadata": {
    "collapsed": true
   },
   "outputs": [],
   "source": [
    "le = LabelEncoder()\n",
    "useful_data_df['Book-Author-Enc'] = le.fit_transform(useful_data_df['Book-Author'].values).reshape(-1,1)"
   ]
  },
  {
   "cell_type": "code",
   "execution_count": 177,
   "metadata": {
    "collapsed": true
   },
   "outputs": [],
   "source": [
    "le = LabelEncoder()\n",
    "useful_data_df['City-Enc'] = le.fit_transform(useful_data_df['City'].values).reshape(-1,1)"
   ]
  },
  {
   "cell_type": "code",
   "execution_count": 178,
   "metadata": {
    "collapsed": true
   },
   "outputs": [],
   "source": [
    "le = LabelEncoder()\n",
    "useful_data_df['State-Enc'] = le.fit_transform(useful_data_df['State'].values).reshape(-1,1)"
   ]
  },
  {
   "cell_type": "code",
   "execution_count": 179,
   "metadata": {},
   "outputs": [
    {
     "data": {
      "text/html": [
       "<div>\n",
       "<style>\n",
       "    .dataframe thead tr:only-child th {\n",
       "        text-align: right;\n",
       "    }\n",
       "\n",
       "    .dataframe thead th {\n",
       "        text-align: left;\n",
       "    }\n",
       "\n",
       "    .dataframe tbody tr th {\n",
       "        vertical-align: top;\n",
       "    }\n",
       "</style>\n",
       "<table border=\"1\" class=\"dataframe\">\n",
       "  <thead>\n",
       "    <tr style=\"text-align: right;\">\n",
       "      <th></th>\n",
       "      <th>Age</th>\n",
       "      <th>Book-Author</th>\n",
       "      <th>Year-Of-Publication</th>\n",
       "      <th>Book-Rating</th>\n",
       "      <th>City</th>\n",
       "      <th>State</th>\n",
       "      <th>Book-Author-Enc</th>\n",
       "      <th>City-Enc</th>\n",
       "      <th>State-Enc</th>\n",
       "    </tr>\n",
       "  </thead>\n",
       "  <tbody>\n",
       "    <tr>\n",
       "      <th>0</th>\n",
       "      <td>37.397719</td>\n",
       "      <td>M. J. Rose</td>\n",
       "      <td>2002</td>\n",
       "      <td>0</td>\n",
       "      <td>tyler</td>\n",
       "      <td>texas</td>\n",
       "      <td>61695</td>\n",
       "      <td>13340</td>\n",
       "      <td>1839</td>\n",
       "    </tr>\n",
       "    <tr>\n",
       "      <th>1</th>\n",
       "      <td>23.000000</td>\n",
       "      <td>M. J. Rose</td>\n",
       "      <td>2002</td>\n",
       "      <td>5</td>\n",
       "      <td>cincinnati</td>\n",
       "      <td>ohio</td>\n",
       "      <td>61695</td>\n",
       "      <td>2631</td>\n",
       "      <td>1397</td>\n",
       "    </tr>\n",
       "    <tr>\n",
       "      <th>2</th>\n",
       "      <td>23.000000</td>\n",
       "      <td>Orson Scott Card</td>\n",
       "      <td>1986</td>\n",
       "      <td>9</td>\n",
       "      <td>cincinnati</td>\n",
       "      <td>ohio</td>\n",
       "      <td>73676</td>\n",
       "      <td>2631</td>\n",
       "      <td>1397</td>\n",
       "    </tr>\n",
       "    <tr>\n",
       "      <th>3</th>\n",
       "      <td>23.000000</td>\n",
       "      <td>TRUMAN CAPOTE</td>\n",
       "      <td>1994</td>\n",
       "      <td>8</td>\n",
       "      <td>cincinnati</td>\n",
       "      <td>ohio</td>\n",
       "      <td>93473</td>\n",
       "      <td>2631</td>\n",
       "      <td>1397</td>\n",
       "    </tr>\n",
       "    <tr>\n",
       "      <th>4</th>\n",
       "      <td>23.000000</td>\n",
       "      <td>Rebecca Wells</td>\n",
       "      <td>1996</td>\n",
       "      <td>9</td>\n",
       "      <td>cincinnati</td>\n",
       "      <td>ohio</td>\n",
       "      <td>80512</td>\n",
       "      <td>2631</td>\n",
       "      <td>1397</td>\n",
       "    </tr>\n",
       "  </tbody>\n",
       "</table>\n",
       "</div>"
      ],
      "text/plain": [
       "         Age       Book-Author  Year-Of-Publication  Book-Rating        City  \\\n",
       "0  37.397719        M. J. Rose                 2002            0       tyler   \n",
       "1  23.000000        M. J. Rose                 2002            5  cincinnati   \n",
       "2  23.000000  Orson Scott Card                 1986            9  cincinnati   \n",
       "3  23.000000     TRUMAN CAPOTE                 1994            8  cincinnati   \n",
       "4  23.000000     Rebecca Wells                 1996            9  cincinnati   \n",
       "\n",
       "   State  Book-Author-Enc  City-Enc  State-Enc  \n",
       "0  texas            61695     13340       1839  \n",
       "1   ohio            61695      2631       1397  \n",
       "2   ohio            73676      2631       1397  \n",
       "3   ohio            93473      2631       1397  \n",
       "4   ohio            80512      2631       1397  "
      ]
     },
     "execution_count": 179,
     "metadata": {},
     "output_type": "execute_result"
    }
   ],
   "source": [
    "useful_data_df.head()"
   ]
  },
  {
   "cell_type": "code",
   "execution_count": 180,
   "metadata": {
    "collapsed": true
   },
   "outputs": [],
   "source": [
    "useful_data_df = useful_data_df.drop(['Book-Author', 'City', 'State'], axis=1)"
   ]
  },
  {
   "cell_type": "code",
   "execution_count": 181,
   "metadata": {},
   "outputs": [
    {
     "name": "stdout",
     "output_type": "stream",
     "text": [
      "<class 'pandas.core.frame.DataFrame'>\n",
      "Int64Index: 1031175 entries, 0 to 1031174\n",
      "Data columns (total 6 columns):\n",
      "Age                    1031175 non-null float64\n",
      "Year-Of-Publication    1031175 non-null int64\n",
      "Book-Rating            1031175 non-null int64\n",
      "Book-Author-Enc        1031175 non-null int64\n",
      "City-Enc               1031175 non-null int64\n",
      "State-Enc              1031175 non-null int64\n",
      "dtypes: float64(1), int64(5)\n",
      "memory usage: 55.1 MB\n"
     ]
    }
   ],
   "source": [
    "useful_data_df.info()"
   ]
  },
  {
   "cell_type": "code",
   "execution_count": 182,
   "metadata": {},
   "outputs": [
    {
     "name": "stdout",
     "output_type": "stream",
     "text": [
      "<class 'pandas.core.frame.DataFrame'>\n",
      "Int64Index: 1031175 entries, 0 to 1031174\n",
      "Data columns (total 6 columns):\n",
      "Age                    1031175 non-null float64\n",
      "Year-Of-Publication    1031175 non-null float64\n",
      "Book-Rating            1031175 non-null float64\n",
      "Book-Author-Enc        1031175 non-null float64\n",
      "City-Enc               1031175 non-null float64\n",
      "State-Enc              1031175 non-null float64\n",
      "dtypes: float64(6)\n",
      "memory usage: 55.1 MB\n"
     ]
    }
   ],
   "source": [
    "useful_data_df = useful_data_df.apply(lambda x : x.astype(float))\n",
    "useful_data_df.info()"
   ]
  },
  {
   "cell_type": "code",
   "execution_count": 183,
   "metadata": {
    "collapsed": true
   },
   "outputs": [],
   "source": [
    "X, y = useful_data_df.drop('Book-Rating', axis=1), useful_data_df[['Book-Rating']]"
   ]
  },
  {
   "cell_type": "code",
   "execution_count": 184,
   "metadata": {},
   "outputs": [
    {
     "data": {
      "text/html": [
       "<div>\n",
       "<style>\n",
       "    .dataframe thead tr:only-child th {\n",
       "        text-align: right;\n",
       "    }\n",
       "\n",
       "    .dataframe thead th {\n",
       "        text-align: left;\n",
       "    }\n",
       "\n",
       "    .dataframe tbody tr th {\n",
       "        vertical-align: top;\n",
       "    }\n",
       "</style>\n",
       "<table border=\"1\" class=\"dataframe\">\n",
       "  <thead>\n",
       "    <tr style=\"text-align: right;\">\n",
       "      <th></th>\n",
       "      <th>Age</th>\n",
       "      <th>Year-Of-Publication</th>\n",
       "      <th>Book-Author-Enc</th>\n",
       "      <th>City-Enc</th>\n",
       "      <th>State-Enc</th>\n",
       "    </tr>\n",
       "  </thead>\n",
       "  <tbody>\n",
       "    <tr>\n",
       "      <th>0</th>\n",
       "      <td>37.397719</td>\n",
       "      <td>2002.0</td>\n",
       "      <td>61695.0</td>\n",
       "      <td>13340.0</td>\n",
       "      <td>1839.0</td>\n",
       "    </tr>\n",
       "    <tr>\n",
       "      <th>1</th>\n",
       "      <td>23.000000</td>\n",
       "      <td>2002.0</td>\n",
       "      <td>61695.0</td>\n",
       "      <td>2631.0</td>\n",
       "      <td>1397.0</td>\n",
       "    </tr>\n",
       "    <tr>\n",
       "      <th>2</th>\n",
       "      <td>23.000000</td>\n",
       "      <td>1986.0</td>\n",
       "      <td>73676.0</td>\n",
       "      <td>2631.0</td>\n",
       "      <td>1397.0</td>\n",
       "    </tr>\n",
       "    <tr>\n",
       "      <th>3</th>\n",
       "      <td>23.000000</td>\n",
       "      <td>1994.0</td>\n",
       "      <td>93473.0</td>\n",
       "      <td>2631.0</td>\n",
       "      <td>1397.0</td>\n",
       "    </tr>\n",
       "    <tr>\n",
       "      <th>4</th>\n",
       "      <td>23.000000</td>\n",
       "      <td>1996.0</td>\n",
       "      <td>80512.0</td>\n",
       "      <td>2631.0</td>\n",
       "      <td>1397.0</td>\n",
       "    </tr>\n",
       "  </tbody>\n",
       "</table>\n",
       "</div>"
      ],
      "text/plain": [
       "         Age  Year-Of-Publication  Book-Author-Enc  City-Enc  State-Enc\n",
       "0  37.397719               2002.0          61695.0   13340.0     1839.0\n",
       "1  23.000000               2002.0          61695.0    2631.0     1397.0\n",
       "2  23.000000               1986.0          73676.0    2631.0     1397.0\n",
       "3  23.000000               1994.0          93473.0    2631.0     1397.0\n",
       "4  23.000000               1996.0          80512.0    2631.0     1397.0"
      ]
     },
     "execution_count": 184,
     "metadata": {},
     "output_type": "execute_result"
    }
   ],
   "source": [
    "X.head()"
   ]
  },
  {
   "cell_type": "code",
   "execution_count": 185,
   "metadata": {},
   "outputs": [
    {
     "data": {
      "text/html": [
       "<div>\n",
       "<style>\n",
       "    .dataframe thead tr:only-child th {\n",
       "        text-align: right;\n",
       "    }\n",
       "\n",
       "    .dataframe thead th {\n",
       "        text-align: left;\n",
       "    }\n",
       "\n",
       "    .dataframe tbody tr th {\n",
       "        vertical-align: top;\n",
       "    }\n",
       "</style>\n",
       "<table border=\"1\" class=\"dataframe\">\n",
       "  <thead>\n",
       "    <tr style=\"text-align: right;\">\n",
       "      <th></th>\n",
       "      <th>Book-Rating</th>\n",
       "    </tr>\n",
       "  </thead>\n",
       "  <tbody>\n",
       "    <tr>\n",
       "      <th>0</th>\n",
       "      <td>0.0</td>\n",
       "    </tr>\n",
       "    <tr>\n",
       "      <th>1</th>\n",
       "      <td>5.0</td>\n",
       "    </tr>\n",
       "    <tr>\n",
       "      <th>2</th>\n",
       "      <td>9.0</td>\n",
       "    </tr>\n",
       "    <tr>\n",
       "      <th>3</th>\n",
       "      <td>8.0</td>\n",
       "    </tr>\n",
       "    <tr>\n",
       "      <th>4</th>\n",
       "      <td>9.0</td>\n",
       "    </tr>\n",
       "  </tbody>\n",
       "</table>\n",
       "</div>"
      ],
      "text/plain": [
       "   Book-Rating\n",
       "0          0.0\n",
       "1          5.0\n",
       "2          9.0\n",
       "3          8.0\n",
       "4          9.0"
      ]
     },
     "execution_count": 185,
     "metadata": {},
     "output_type": "execute_result"
    }
   ],
   "source": [
    "y.head()"
   ]
  },
  {
   "cell_type": "code",
   "execution_count": 199,
   "metadata": {
    "collapsed": true
   },
   "outputs": [],
   "source": [
    "X_train, X_test, y_train, y_test = train_test_split(X, y, test_size=0.33, random_state=42)"
   ]
  },
  {
   "cell_type": "code",
   "execution_count": 200,
   "metadata": {
    "collapsed": true
   },
   "outputs": [],
   "source": [
    "RUN_NAME = calendar.timegm(time.gmtime())\n",
    "\n",
    "learning_rate = 0.001\n",
    "training_epochs = 100\n",
    "\n",
    "number_of_inputs = 5\n",
    "number_of_outputs = 1\n",
    "\n",
    "layer_1_nodes = 20\n",
    "layer_2_nodes = 100\n",
    "layer_3_nodes = 50"
   ]
  },
  {
   "cell_type": "code",
   "execution_count": 201,
   "metadata": {
    "collapsed": true
   },
   "outputs": [],
   "source": [
    "tf.reset_default_graph()"
   ]
  },
  {
   "cell_type": "markdown",
   "metadata": {},
   "source": [
    "### Input Layer"
   ]
  },
  {
   "cell_type": "code",
   "execution_count": 202,
   "metadata": {
    "collapsed": true
   },
   "outputs": [],
   "source": [
    "input_x = tf.placeholder(tf.float64, shape=(None, number_of_inputs), name='Input_X')"
   ]
  },
  {
   "cell_type": "markdown",
   "metadata": {},
   "source": [
    "### Layer 1"
   ]
  },
  {
   "cell_type": "code",
   "execution_count": 203,
   "metadata": {},
   "outputs": [],
   "source": [
    "weights_1 = tf.get_variable(name=\"weights1\", shape=[number_of_inputs, layer_1_nodes], initializer=tf.contrib.layers.xavier_initializer(), dtype=tf.float64)\n",
    "biases_1 = tf.get_variable(name=\"biases1\", shape=[layer_1_nodes], initializer=tf.zeros_initializer(), dtype=tf.float64)\n",
    "layer_1_output = tf.nn.relu(tf.matmul(input_x, weights_1) + biases_1)"
   ]
  },
  {
   "cell_type": "markdown",
   "metadata": {},
   "source": [
    "### Layer 2"
   ]
  },
  {
   "cell_type": "code",
   "execution_count": 204,
   "metadata": {
    "collapsed": true
   },
   "outputs": [],
   "source": [
    "weights_2 = tf.get_variable(name=\"weights2\", shape=[layer_1_nodes, layer_2_nodes], initializer=tf.contrib.layers.xavier_initializer(), dtype=tf.float64)\n",
    "biases_2 = tf.get_variable(name=\"biases2\", shape=[layer_2_nodes], initializer=tf.zeros_initializer(), dtype=tf.float64)\n",
    "layer_2_output = tf.nn.relu(tf.matmul(layer_1_output, weights_2) + biases_2)"
   ]
  },
  {
   "cell_type": "markdown",
   "metadata": {},
   "source": [
    "### Layer 3"
   ]
  },
  {
   "cell_type": "code",
   "execution_count": 205,
   "metadata": {
    "collapsed": true
   },
   "outputs": [],
   "source": [
    "weights_3 = tf.get_variable(name=\"weights3\", shape=[layer_2_nodes, layer_3_nodes], initializer=tf.contrib.layers.xavier_initializer(), dtype=tf.float64)\n",
    "biases_3 = tf.get_variable(name=\"biases3\", shape=[layer_3_nodes], initializer=tf.zeros_initializer(), dtype=tf.float64)\n",
    "layer_3_output = tf.nn.relu(tf.matmul(layer_2_output, weights_3) + biases_3)"
   ]
  },
  {
   "cell_type": "markdown",
   "metadata": {},
   "source": [
    "### Output"
   ]
  },
  {
   "cell_type": "code",
   "execution_count": 206,
   "metadata": {
    "collapsed": true
   },
   "outputs": [],
   "source": [
    "weights_o = tf.get_variable(\"weights4\", shape=[layer_3_nodes, number_of_outputs], initializer=tf.contrib.layers.xavier_initializer(), dtype=tf.float64)\n",
    "biases_o = tf.get_variable(name=\"biases4\", shape=[number_of_outputs], initializer=tf.zeros_initializer(), dtype=tf.float64)\n",
    "prediction = tf.matmul(layer_3_output, weights_o) + biases_o"
   ]
  },
  {
   "cell_type": "markdown",
   "metadata": {},
   "source": [
    "### Cost"
   ]
  },
  {
   "cell_type": "code",
   "execution_count": 207,
   "metadata": {
    "collapsed": true
   },
   "outputs": [],
   "source": [
    "actual_y = tf.placeholder(tf.float64, shape=(None, 1), name=\"Actual_Y\")\n",
    "cost = tf.reduce_mean(tf.squared_difference(prediction, actual_y))"
   ]
  },
  {
   "cell_type": "markdown",
   "metadata": {},
   "source": [
    "### Optimizer"
   ]
  },
  {
   "cell_type": "code",
   "execution_count": 208,
   "metadata": {
    "collapsed": true
   },
   "outputs": [],
   "source": [
    "optimizer = tf.train.AdamOptimizer(learning_rate).minimize(cost)"
   ]
  },
  {
   "cell_type": "markdown",
   "metadata": {},
   "source": [
    "### Logging"
   ]
  },
  {
   "cell_type": "code",
   "execution_count": 209,
   "metadata": {
    "collapsed": true
   },
   "outputs": [],
   "source": [
    "with tf.variable_scope('logging'):\n",
    "    tf.summary.scalar('current_cost', cost)\n",
    "    summary = tf.summary.merge_all()"
   ]
  },
  {
   "cell_type": "markdown",
   "metadata": {},
   "source": [
    "### Session Initialization"
   ]
  },
  {
   "cell_type": "code",
   "execution_count": 214,
   "metadata": {},
   "outputs": [
    {
     "name": "stdout",
     "output_type": "stream",
     "text": [
      "Epoch: 0 - Training Cost: 52600116.024166316  Testing Cost: 52561260.420814686\n",
      "Epoch: 5 - Training Cost: 3472202.3469564836  Testing Cost: 3466954.394958142\n",
      "Epoch: 10 - Training Cost: 4025525.1731337244  Testing Cost: 4026498.3261832935\n",
      "Epoch: 15 - Training Cost: 4748177.093609874  Testing Cost: 4750452.636382547\n",
      "Epoch: 20 - Training Cost: 1210353.3057232595  Testing Cost: 1211726.8542176366\n",
      "Epoch: 25 - Training Cost: 39858.60572382683  Testing Cost: 39808.38123903959\n",
      "Epoch: 30 - Training Cost: 547794.327053852  Testing Cost: 546494.023310575\n",
      "Epoch: 35 - Training Cost: 529996.1062394353  Testing Cost: 528814.442603361\n",
      "Epoch: 40 - Training Cost: 112006.69783149363  Testing Cost: 111652.85406996516\n",
      "Epoch: 45 - Training Cost: 36083.94397642189  Testing Cost: 36244.27415371555\n",
      "Epoch: 50 - Training Cost: 114258.76303538057  Testing Cost: 114519.94544110981\n",
      "Epoch: 55 - Training Cost: 63064.01794409779  Testing Cost: 63248.58411881069\n",
      "Epoch: 60 - Training Cost: 12230.799094223572  Testing Cost: 12267.156376794392\n",
      "Epoch: 65 - Training Cost: 24364.984411235  Testing Cost: 24291.584481073765\n",
      "Epoch: 70 - Training Cost: 22309.086840689473  Testing Cost: 22241.39391394094\n",
      "Epoch: 75 - Training Cost: 8132.609389437907  Testing Cost: 8127.80083788355\n",
      "Epoch: 80 - Training Cost: 8229.203874268036  Testing Cost: 8263.487842031924\n",
      "Epoch: 85 - Training Cost: 8226.496192118615  Testing Cost: 8259.955845105362\n",
      "Epoch: 90 - Training Cost: 4571.827841488788  Testing Cost: 4583.569797877794\n",
      "Epoch: 95 - Training Cost: 4015.2573655259853  Testing Cost: 4008.389045145841\n",
      "Testing Cost: None\n"
     ]
    }
   ],
   "source": [
    "with tf.Session() as session:\n",
    "    # Create log file writers to record training progress.\n",
    "    # We'll store training and testing log data separately.\n",
    "    training_writer = tf.summary.FileWriter(\"./logs/{}/training\".format(RUN_NAME), session.graph)\n",
    "    testing_writer = tf.summary.FileWriter(\"./logs/{}/testing\".format(RUN_NAME), session.graph)\n",
    "\n",
    "    # Run the global variable initializer to initialize all variables and layers of the neural network\n",
    "    session.run(tf.global_variables_initializer())\n",
    "    # Run the optimizer over and over to train the network.\n",
    "    # One epoch is one full run through the training data set.\n",
    "    for epoch in range(training_epochs):\n",
    "        # Feed in the training data and do one step of neural network training\n",
    "        session.run(optimizer, feed_dict={input_x: X_train, actual_y: y_train})\n",
    "        if epoch % 5 == 0:\n",
    "            # Get the current accuracy scores by running the \"cost\" operation on the training and test data sets\n",
    "            training_cost, training_summary = session.run([cost, summary],\n",
    "                                                          feed_dict={input_x: X_train, actual_y: y_train})\n",
    "            testing_cost, testing_summary = session.run([cost, summary],\n",
    "                                                        feed_dict={input_x: X_test, actual_y: y_test})\n",
    "            # Write the current training status to the log files (Which we can view with TensorBoard)\n",
    "            training_writer.add_summary(training_summary, epoch)\n",
    "            testing_writer.add_summary(testing_summary, epoch)\n",
    "            # Print the current training status to the screen\n",
    "            print(\"Epoch: {} - Training Cost: {}  Testing Cost: {}\".format(epoch, training_cost, testing_cost))\n",
    "    testing_cost = session.run(optimizer, feed_dict={input_x: X_test, actual_y: y_test})\n",
    "    print(\"Testing Cost: {}\".format(testing_cost))\n",
    "\n",
    "        "
   ]
  },
  {
   "cell_type": "code",
   "execution_count": 211,
   "metadata": {},
   "outputs": [
    {
     "name": "stdout",
     "output_type": "stream",
     "text": [
      "/usr/local/anaconda/lib/python3.6/importlib/_bootstrap.py:205: RuntimeWarning: compiletime version 3.5 of module 'tensorflow.python.framework.fast_tensor_util' does not match runtime version 3.6\n",
      "  return f(*args, **kwds)\n",
      "TensorBoard 0.4.0 at http://domino-run-5e8f0bdec9e77c000c8e2ca6:6006 (Press CTRL+C to quit)\n",
      "^C\n"
     ]
    }
   ],
   "source": [
    "! tensorboard --logdir \"./logs\""
   ]
  }
 ],
 "metadata": {
  "kernelspec": {
   "display_name": "Python 3",
   "language": "python",
   "name": "python3"
  },
  "language_info": {
   "codemirror_mode": {
    "name": "ipython",
    "version": 3
   },
   "file_extension": ".py",
   "mimetype": "text/x-python",
   "name": "python",
   "nbconvert_exporter": "python",
   "pygments_lexer": "ipython3",
   "version": "3.6.2"
  }
 },
 "nbformat": 4,
 "nbformat_minor": 2
}
